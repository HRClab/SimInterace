{
 "cells": [
  {
   "cell_type": "code",
   "execution_count": 34,
   "metadata": {
    "collapsed": false,
    "run_control": {
     "read_only": false
    }
   },
   "outputs": [],
   "source": [
    "%matplotlib inline\n",
    "import numpy as np\n",
    "import numpy.random as rnd\n",
    "import SimInterface.functionApproximator as fa\n",
    "import SimInterface.temporalDifference as td\n",
    "import SimInterface.kalman as kf\n",
    "import matplotlib.pyplot as plt\n",
    "import functools as ft"
   ]
  },
  {
   "cell_type": "code",
   "execution_count": 35,
   "metadata": {
    "collapsed": false,
    "run_control": {
     "read_only": false
    }
   },
   "outputs": [],
   "source": [
    "A = .7\n",
    "gamma = .8\n",
    "lam = .7\n",
    "W = .7\n",
    "Wrt = np.sqrt(W)\n",
    "\n",
    "P = W / (1.-A**2.)\n",
    "Q = 3.\n",
    "\n",
    "\n",
    "# Approximators\n",
    "\n",
    "tdQuadApprox = fa.parameterizedQuadratic(NumVars=1,parameter=np.zeros(3))\n",
    "lstdQuadApprox = fa.parameterizedQuadratic(NumVars=1,parameter=np.zeros(3))\n",
    "kalmanQuadApprox = fa.parameterizedQuadratic(NumVars=1,parameter=np.zeros(3))\n",
    "\n",
    "NumBases = 30\n",
    "Centers = np.reshape(np.linspace(-5,5,NumBases),(NumBases,1))\n",
    "Lengths = (Centers[1,0] - Centers[0,0])\n",
    "tdRbfApprox = fa.rbfNetwork(Centers,Lengths,parameter=np.zeros(NumBases))\n",
    "lstdRbfApprox = fa.rbfNetwork(Centers,Lengths,parameter=np.zeros(NumBases))\n",
    "kalmanRbfApprox = fa.rbfNetwork(Centers,Lengths,parameter=np.zeros(NumBases))\n",
    "\n",
    "# TD Operators\n",
    "tdOperators = []\n",
    "\n",
    "def stepSizeVariable(k,c,period):\n",
    "    den = 1 + np.round(k/period)\n",
    "    return c/den\n",
    "\n",
    "\n",
    "tdQuad = td.temporalDifferenceLearner(approximator=tdQuadApprox,\n",
    "                                      discountFactor=gamma,\n",
    "                                      traceDecayFactor=lam,\n",
    "                                      stepSize=ft.partial(stepSizeVariable,c=.2,period=5),\n",
    "                                      label='TD - Quad')\n",
    "# tdOperators.append(tdQuad)\n",
    "\n",
    "tdRBF = td.temporalDifferenceLearner(approximator=tdRbfApprox,\n",
    "                                     discountFactor=gamma,\n",
    "                                     traceDecayFactor=lam,\n",
    "                                     stepSize=ft.partial(stepSizeVariable,c=.2,period=10),\n",
    "                                     label='TD - RBF')\n",
    "\n",
    "tdOperators.append(tdRBF)\n",
    "\n",
    "# LSTD Operators\n",
    "lstdQuad= td.lstdLearner(approximator=lstdQuadApprox,\n",
    "                         discountFactor=gamma,\n",
    "                         traceDecayFactor=lam,\n",
    "                         label='LSTD - Quad')\n",
    "# tdOperators.append(lstdQuad)\n",
    "\n",
    "lstdRBF = td.lstdLearner(approximator=lstdRbfApprox,\n",
    "                         discountFactor=gamma,\n",
    "                         traceDecayFactor=lam,\n",
    "                         label='LSTD - RBF')\n",
    "# Not putting in because it is a bit rubbish\n",
    "# Appears to overfit in data-poor regions. \n",
    "# tdOperators.append(lstdRBF)\n",
    "\n",
    "# Kalman Operators \n",
    "kalmanQuad = kf.kalmanPolicyEvaluator(approximator=kalmanQuadApprox,\n",
    "                                      discountFactor=gamma,\n",
    "                                      driftCovariance=.1,\n",
    "                                      measurementCovariance=.5,\n",
    "                                      priorCovariance=1.,\n",
    "                                      decay=False,\n",
    "                                      label='Kalman - Quad')\n",
    "\n",
    "# tdOperators.append(kalmanQuad)\n",
    "\n",
    "kalmanRBF = kf.kalmanPolicyEvaluator(approximator=kalmanRbfApprox,\n",
    "                                     discountFactor=gamma,\n",
    "                                     driftCovariance=.1,\n",
    "                                     measurementCovariance=.5,\n",
    "                                     priorCovariance=1.,\n",
    "                                     decay=False,\n",
    "                                     label='Kalman - RBF')\n",
    "tdOperators.append(kalmanRBF)\n",
    "\n",
    "# Analytic Solution\n",
    "S = Q / (1.-gamma*A**2)\n",
    "c = gamma*S*W/(1.-gamma)"
   ]
  },
  {
   "cell_type": "code",
   "execution_count": 36,
   "metadata": {
    "collapsed": false,
    "run_control": {
     "read_only": false
    }
   },
   "outputs": [],
   "source": [
    "NumSteps = 1000\n",
    "NumRuns = 1\n",
    "\n",
    "Xtraj = np.zeros(NumSteps)\n",
    "x = rnd.randn() * np.sqrt(P)\n",
    "Xtraj[0] = x\n",
    "\n",
    "NumOperators = len(tdOperators)\n",
    "tdErr = np.zeros((NumOperators,NumRuns,NumSteps-1))\n",
    "\n",
    "for run in range(NumRuns):\n",
    "    x = np.sqrt(P) * rnd.rand()\n",
    "    for k in range(NumSteps-1):\n",
    "        xNew = A*x + Wrt * rnd.randn()\n",
    "        val = Q * x**2.\n",
    "        vTrue = S*x**2 + c\n",
    "        for m in range(NumOperators):\n",
    "            tdOp = tdOperators[m]\n",
    "            if isinstance(tdOp,td.lstdLearner):\n",
    "                tdOp.step(val,x,xNew,updateParameter=True)\n",
    "            else:\n",
    "                tdOp.step(val,x,xNew)\n",
    "            vTD = tdOp.approximator.value(x)\n",
    "            tdErr[m,run,k] = (vTrue-vTD)**2\n",
    "        x = xNew\n",
    "        Xtraj[k+1] = x\n",
    "\n",
    "# line = []\n",
    "# for m in range(NumOperators):\n",
    "#    label = tdOperators[m].label\n",
    "#    tdErrMean = tdErr[m].mean(axis=0)\n",
    "#    handle = plt.semilogy(np.arange(NumSteps-1),tdErrMean,label=label)[0]\n",
    "#    line.append(handle)\n",
    "# plt.legend(handles=line,loc='best')"
   ]
  },
  {
   "cell_type": "code",
   "execution_count": 37,
   "metadata": {
    "collapsed": false,
    "run_control": {
     "read_only": false
    }
   },
   "outputs": [
    {
     "data": {
      "text/plain": [
       "<matplotlib.legend.Legend at 0x107fb3890>"
      ]
     },
     "execution_count": 37,
     "metadata": {},
     "output_type": "execute_result"
    },
    {
     "data": {
      "image/png": "[encoded data removed]",
      "text/plain": [
       "<matplotlib.figure.Figure at 0x107fb3210>"
      ]
     },
     "metadata": {},
     "output_type": "display_data"
    }
   ],
   "source": [
    "X = np.linspace(-5,5)\n",
    "Vtrue = S*X**2 + c\n",
    "\n",
    "line = []\n",
    "handle = plt.plot(X,Vtrue,label='True')[0]\n",
    "line.append(handle)\n",
    "Vtd = np.zeros((NumOperators,len(X)))\n",
    "for m in range(NumOperators):\n",
    "    tdOp = tdOperators[m]\n",
    "    for k in range(len(X)):\n",
    "        Vtd[m,k] = tdOp.approximator.value(X[k])\n",
    "    handle = plt.plot(X,Vtd[m],label=tdOp.label)[0]\n",
    "    line.append(handle)\n",
    "\n",
    "plt.plot(Xtraj,np.zeros(NumSteps),'*')\n",
    "plt.legend(handles=line)"
   ]
  },
  {
   "cell_type": "code",
   "execution_count": 38,
   "metadata": {
    "collapsed": false,
    "run_control": {
     "read_only": false
    }
   },
   "outputs": [
    {
     "ename": "NameError",
     "evalue": "name 'fun' is not defined",
     "output_type": "error",
     "traceback": [
      "\u001b[0;31m---------------------------------------------------------------------------\u001b[0m",
      "\u001b[0;31mNameError\u001b[0m                                 Traceback (most recent call last)",
      "\u001b[0;32m<ipython-input-38-c8b4e36f3d3b>\u001b[0m in \u001b[0;36m<module>\u001b[0;34m()\u001b[0m\n\u001b[0;32m----> 1\u001b[0;31m \u001b[0mtype\u001b[0m\u001b[0;34m(\u001b[0m\u001b[0mfun\u001b[0m\u001b[0;34m)\u001b[0m\u001b[0;34m\u001b[0m\u001b[0m\n\u001b[0m",
      "\u001b[0;31mNameError\u001b[0m: name 'fun' is not defined"
     ]
    }
   ],
   "source": [
    "type(fun)"
   ]
  },
  {
   "cell_type": "code",
   "execution_count": null,
   "metadata": {
    "collapsed": true,
    "run_control": {
     "read_only": false
    }
   },
   "outputs": [],
   "source": []
  }
 ],
 "metadata": {
  "kernelspec": {
   "display_name": "Python 2",
   "language": "python",
   "name": "python2"
  },
  "language_info": {
   "codemirror_mode": {
    "name": "ipython",
    "version": 2
   },
   "file_extension": ".py",
   "mimetype": "text/x-python",
   "name": "python",
   "nbconvert_exporter": "python",
   "pygments_lexer": "ipython2",
   "version": "2.7.8"
  }
 },
 "nbformat": 4,
 "nbformat_minor": 0
}
