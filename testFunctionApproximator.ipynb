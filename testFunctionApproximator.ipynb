{
 "cells": [
  {
   "cell_type": "code",
   "execution_count": 1,
   "metadata": {
    "collapsed": false,
    "run_control": {
     "read_only": false
    }
   },
   "outputs": [],
   "source": [
    "%matplotlib inline\n",
    "import numpy as np\n",
    "import scipy.linalg as la\n",
    "import SimInterface.functionApproximator as fa\n",
    "import numpy.random as rnd\n",
    "import matplotlib.pyplot as plt\n",
    "import sympy as sym\n",
    "import SimInterface.utils.sympy_utils as su\n",
    "import SimInterface.utils.numpy_utils as nu"
   ]
  },
  {
   "cell_type": "markdown",
   "metadata": {},
   "source": [
    "First, we'll test our quadratic approximators.\n",
    "\n",
    "Generate a random symmetric matrix and look at the corresponding cost"
   ]
  },
  {
   "cell_type": "code",
   "execution_count": 2,
   "metadata": {
    "collapsed": false,
    "run_control": {
     "read_only": false
    }
   },
   "outputs": [],
   "source": [
    "n = 10\n",
    "B = fa.stackedSymmetricBasis(n+1)\n",
    "quadApprox = fa.parameterizedQuadratic(NumVars=n)"
   ]
  },
  {
   "cell_type": "code",
   "execution_count": 3,
   "metadata": {
    "collapsed": true,
    "run_control": {
     "read_only": false
    }
   },
   "outputs": [],
   "source": [
    "C = rnd.randn(n+1,n+1)\n",
    "C = C + C.T\n",
    "x = rnd.randn(n)\n",
    "z = np.hstack((1,x))"
   ]
  },
  {
   "cell_type": "code",
   "execution_count": 4,
   "metadata": {
    "collapsed": false,
    "run_control": {
     "read_only": false
    }
   },
   "outputs": [
    {
     "name": "stdout",
     "output_type": "stream",
     "text": [
      "[[ 0.  0.  0.  0.  0.  0.  0.  0.  0.  0.  0.]\n",
      " [ 0.  0.  0.  0.  0.  0.  0.  0.  0.  0.  0.]\n",
      " [ 0.  0.  0.  0.  0.  0.  0.  0.  0.  0.  0.]\n",
      " [ 0.  0.  0.  0.  0.  0.  0.  0.  0.  0.  0.]\n",
      " [ 0.  0.  0.  0.  0.  0.  0.  0.  0.  0.  0.]\n",
      " [ 0.  0.  0.  0.  0.  0.  0.  0.  0.  0.  0.]\n",
      " [ 0.  0.  0.  0.  0.  0.  0.  0.  0.  0.  0.]\n",
      " [ 0.  0.  0.  0.  0.  0.  0.  0.  0.  0.  0.]\n",
      " [ 0.  0.  0.  0.  0.  0.  0.  0.  0.  0.  0.]\n",
      " [ 0.  0.  0.  0.  0.  0.  0.  0.  0.  0.  0.]\n",
      " [ 0.  0.  0.  0.  0.  0.  0.  0.  0.  0.  0.]]\n"
     ]
    }
   ],
   "source": [
    "Cstacked = fa.stackLower(C)\n",
    "CfullStack = np.dot(B,Cstacked)\n",
    "quadApprox.resetParameter(Cstacked)\n",
    "print C - np.reshape(CfullStack,(n+1,n+1),order='F')"
   ]
  },
  {
   "cell_type": "code",
   "execution_count": 5,
   "metadata": {
    "collapsed": false,
    "run_control": {
     "read_only": false
    }
   },
   "outputs": [],
   "source": [
    "TrueValue = np.dot(z,np.dot(C,z))"
   ]
  },
  {
   "cell_type": "code",
   "execution_count": 6,
   "metadata": {
    "collapsed": false,
    "run_control": {
     "read_only": false
    }
   },
   "outputs": [
    {
     "data": {
      "text/plain": [
       "0.0"
      ]
     },
     "execution_count": 6,
     "metadata": {},
     "output_type": "execute_result"
    }
   ],
   "source": [
    "TrueValue - quadApprox.value(x)"
   ]
  },
  {
   "cell_type": "code",
   "execution_count": 7,
   "metadata": {
    "collapsed": false,
    "run_control": {
     "read_only": false
    }
   },
   "outputs": [
    {
     "data": {
      "text/plain": [
       "array([ 0.,  0.,  0.,  0.,  0.,  0.,  0.,  0.,  0.,  0.,  0.,  0.,  0.,\n",
       "        0.,  0.,  0.,  0.,  0.,  0.,  0.,  0.,  0.,  0.,  0.,  0.,  0.,\n",
       "        0.,  0.,  0.,  0.,  0.,  0.,  0.,  0.,  0.,  0.,  0.,  0.,  0.,\n",
       "        0.,  0.,  0.,  0.,  0.,  0.,  0.,  0.,  0.,  0.,  0.,  0.,  0.,\n",
       "        0.,  0.,  0.,  0.,  0.,  0.,  0.,  0.,  0.,  0.,  0.,  0.,  0.,  0.])"
      ]
     },
     "execution_count": 7,
     "metadata": {},
     "output_type": "execute_result"
    }
   ],
   "source": [
    "quadApprox.parameterGradient(x) - np.dot(np.kron(z,z),B)"
   ]
  },
  {
   "cell_type": "markdown",
   "metadata": {},
   "source": [
    "Now, let's try an RBF parameterized "
   ]
  },
  {
   "cell_type": "code",
   "execution_count": 8,
   "metadata": {
    "collapsed": false,
    "run_control": {
     "read_only": false
    }
   },
   "outputs": [
    {
     "data": {
      "text/plain": [
       "<module 'SimInterface.functionApproximator' from 'SimInterface/functionApproximator.pyc'>"
      ]
     },
     "execution_count": 8,
     "metadata": {},
     "output_type": "execute_result"
    }
   ],
   "source": [
    "reload(fa)"
   ]
  },
  {
   "cell_type": "code",
   "execution_count": 9,
   "metadata": {
    "collapsed": false,
    "run_control": {
     "read_only": false
    }
   },
   "outputs": [],
   "source": [
    "Centers = np.array([np.linspace(-10,10,11)]).T\n",
    "Lengths = .5\n",
    "rbfApprox = fa.rbfNetwork(Centers=Centers,Lengths=Lengths)\n",
    "\n",
    "X = np.linspace(-12,12,100)"
   ]
  },
  {
   "cell_type": "code",
   "execution_count": 10,
   "metadata": {
    "collapsed": true,
    "run_control": {
     "read_only": false
    }
   },
   "outputs": [],
   "source": [
    "rbfApprox.resetParameter(rnd.randn(rbfApprox.NumParams))"
   ]
  },
  {
   "cell_type": "markdown",
   "metadata": {},
   "source": [
    "Y = np.zeros(len(X))\n",
    "\n",
    "for k in range(len(X)):\n",
    "    Y[k] = rbfApprox.value(X[k])\n",
    "plt.plot(X,Y)"
   ]
  },
  {
   "cell_type": "markdown",
   "metadata": {},
   "source": [
    "Finally, we'll test the more complex parameterized function:\n",
    "\\begin{equation*}\n",
    "\\log\\mathcal{N}(u | \\phi(x,k) \\beta,CC^T) = \n",
    "-\\frac{1}{2} (u-\\phi(x,k)\\beta)^T C^{-T} C^{-1} (u-\\phi(x,k)\\beta) \n",
    "- \\log\\det(C) - \\frac{p}{2} \\log(2\\pi),\n",
    "\\end{equation*}\n",
    "where $u\\in\\mathbb{R}^p$."
   ]
  },
  {
   "cell_type": "code",
   "execution_count": 11,
   "metadata": {
    "collapsed": true,
    "run_control": {
     "read_only": false
    }
   },
   "outputs": [],
   "source": [
    "logGaussApprox = fa.parameterizedLogGaussian(basisFunction=fa.createRBFbasis(Centers,Lengths),NumU=1,NumX=1)"
   ]
  },
  {
   "cell_type": "code",
   "execution_count": 12,
   "metadata": {
    "collapsed": true,
    "run_control": {
     "read_only": false
    }
   },
   "outputs": [],
   "source": [
    "logGaussApprox.resetParameter(np.hstack((rnd.randn(len(Centers)),2)))"
   ]
  },
  {
   "cell_type": "code",
   "execution_count": 13,
   "metadata": {
    "collapsed": false,
    "run_control": {
     "read_only": false
    }
   },
   "outputs": [],
   "source": [
    "beta = logGaussApprox.parameter[:-1]\n",
    "rbfApprox.resetParameter(beta)"
   ]
  },
  {
   "cell_type": "code",
   "execution_count": 14,
   "metadata": {
    "collapsed": false,
    "run_control": {
     "read_only": false
    }
   },
   "outputs": [
    {
     "data": {
      "text/plain": [
       "[<matplotlib.lines.Line2D at 0x1077f2510>]"
      ]
     },
     "execution_count": 14,
     "metadata": {},
     "output_type": "execute_result"
    },
    {
     "data": {
      "image/png": "[encoded data removed]",
      "text/plain": [
       "<matplotlib.figure.Figure at 0x107732b10>"
      ]
     },
     "metadata": {},
     "output_type": "display_data"
    }
   ],
   "source": [
    "Y = np.zeros(len(X))\n",
    "\n",
    "for k in range(len(X)):\n",
    "    Y[k] = rbfApprox.value(X[k])\n",
    "plt.plot(X,Y)"
   ]
  },
  {
   "cell_type": "code",
   "execution_count": 15,
   "metadata": {
    "collapsed": false,
    "run_control": {
     "read_only": false
    }
   },
   "outputs": [
    {
     "data": {
      "text/plain": [
       "[<matplotlib.lines.Line2D at 0x107a55ed0>]"
      ]
     },
     "execution_count": 15,
     "metadata": {},
     "output_type": "execute_result"
    },
    {
     "data": {
      "image/png": "[encoded data removed]",
      "text/plain": [
       "<matplotlib.figure.Figure at 0x1039d4a50>"
      ]
     },
     "metadata": {},
     "output_type": "display_data"
    }
   ],
   "source": [
    "x = 0\n",
    "U = np.linspace(-3,3,100)\n",
    "Y = np.zeros(len(U))\n",
    "for k in range(len(U)):\n",
    "    u = U[k]\n",
    "    z = np.hstack((x,u))\n",
    "    Y[k] = logGaussApprox.value(z)\n",
    "plt.plot(U,Y)"
   ]
  },
  {
   "cell_type": "code",
   "execution_count": 16,
   "metadata": {
    "collapsed": false,
    "run_control": {
     "read_only": false
    }
   },
   "outputs": [
    {
     "data": {
      "text/plain": [
       "-1.6120857137646181"
      ]
     },
     "execution_count": 16,
     "metadata": {},
     "output_type": "execute_result"
    }
   ],
   "source": [
    "-np.log(2) - .5 * np.log(2*np.pi)"
   ]
  },
  {
   "cell_type": "markdown",
   "metadata": {},
   "source": [
    "Now we'll try it with a two-dimensional example which we can compute analytically. "
   ]
  },
  {
   "cell_type": "code",
   "execution_count": 17,
   "metadata": {
    "collapsed": false,
    "run_control": {
     "read_only": false
    }
   },
   "outputs": [],
   "source": [
    "def invertLower(A):\n",
    "    if not isinstance(A,np.ndarray):\n",
    "        return 1/A\n",
    "    else:\n",
    "        n = len(A)\n",
    "    \n",
    "    if n > 1:\n",
    "        Atop = A[0,0]\n",
    "        Aside = A[1:,0]\n",
    "        Alow = A[1:,1:]\n",
    "        AlowInv = invertLower(Alow)\n",
    "        AinvTop = np.hstack((1/Atop,np.zeros(n-1,dtype=A.dtype)))\n",
    "        AinvTop = nu.castToShape(AinvTop,(1,n))\n",
    "        AinvSide = -np.dot(AlowInv,Aside)/Atop\n",
    "        AinvSide = nu.castToShape(AinvSide,(n-1,1))\n",
    "        \n",
    "        Ainv = nu.stack(((AinvTop,),(AinvSide,AlowInv)))\n",
    "    else:\n",
    "        Ainv = 1/A\n",
    "    return Ainv"
   ]
  },
  {
   "cell_type": "code",
   "execution_count": 18,
   "metadata": {
    "collapsed": false,
    "run_control": {
     "read_only": false
    }
   },
   "outputs": [],
   "source": [
    "def logDetTriangular(A):\n",
    "    if not isinstance(A,np.ndarray):\n",
    "        return A\n",
    "    \n",
    "    if A.dtype == np.dtype('float64'):\n",
    "        return np.log(np.diag(A)).sum()\n",
    "    \n",
    "    n = len(A)\n",
    "    \n",
    "    ld = 0\n",
    "    for k in range(n):\n",
    "        ld += sym.log(A[k,k])\n",
    "        \n",
    "    return ld\n",
    "        "
   ]
  },
  {
   "cell_type": "code",
   "execution_count": 19,
   "metadata": {
    "collapsed": false,
    "run_control": {
     "read_only": false
    }
   },
   "outputs": [],
   "source": [
    "p = 1 # Number of outputs, i.e. size of u\n",
    "m = p*(p+1)/2 # number of non-zero coefficients of covariance cholesky\n",
    "n = 5 # Number of inputs, i.e. size of x\n",
    "q = 4 # Number of parameters\n",
    "Cs = sym.symarray('Cs',m)\n",
    "C = fa.unstackLower(Cs)\n",
    "Cinv = invertLower(C)\n",
    "logDet = logDetTriangular(C)\n",
    "b = sym.symarray('b',q)\n",
    "\n",
    "param = np.hstack((b,Cs))"
   ]
  },
  {
   "cell_type": "code",
   "execution_count": 20,
   "metadata": {
    "collapsed": false,
    "run_control": {
     "read_only": false
    }
   },
   "outputs": [
    {
     "name": "stdout",
     "output_type": "stream",
     "text": [
      "-0.178895632647 1.56553878145 -0.918938533205\n",
      "[ -6.10321950e+02   1.46775278e-04   2.22057718e+15   3.19666394e+00\n",
      "   1.47135444e+00]\n"
     ]
    }
   ],
   "source": [
    "x = rnd.randn(n)\n",
    "bTrue = rnd.randn(q)\n",
    "Sigma = rnd.randn(p,p)\n",
    "Sigma = np.dot(Sigma,Sigma.T)\n",
    "CTrue = la.cholesky(Sigma,lower=True)\n",
    "CsTrue = fa.stackLower(CTrue)\n",
    "paramTrue = np.hstack((bTrue,CsTrue))\n",
    "\n",
    "Centers = rnd.randn(q,n)\n",
    "Lengths = rnd.randn(q)\n",
    "V = rnd.randn(p,q)\n",
    "rbfBasis = fa.createRBFbasis(Centers,Lengths,V)\n",
    "B = rbfBasis(x)\n",
    "\n",
    "u = np.dot(B,bTrue) + np.dot(CTrue,rnd.randn(p))\n",
    "\n",
    "logGaussApproximator = fa.parameterizedLogGaussian(basisFunction=rbfBasis,NumU=p,NumX=n)\n",
    "\n",
    "logGaussApproximator.resetParameter(paramTrue)\n",
    "# From the module\n",
    "z = np.hstack((x,u))\n",
    "valueTest = logGaussApproximator.value(z)\n",
    "gradTest = logGaussApproximator.parameterGradient(z)\n",
    "\n",
    "r = u - np.dot(B,b)\n",
    "y = np.dot(Cinv,r)\n",
    "# Simplify is REAL slow, but necessary \n",
    "quadPart = -.5 * np.dot(y,y)\n",
    "detPart = -logDet \n",
    "constPart = -(p/2.) * np.log(2*np.pi)\n",
    "value = quadPart + detPart - (p/2.) * np.log(2*np.pi)\n",
    "valueJac = su.jacobian(value,param)\n",
    "\n",
    "# Symbolocally computed value and jacobian\n",
    "valueFun = su.functify(value,param)\n",
    "quadPartFun = su.functify(quadPart,param)\n",
    "detPartFun = su.functify(detPart,param)\n",
    "\n",
    "valueJacFun = su.functify(valueJac,param)\n",
    "\n",
    "valueSym = valueFun(paramTrue)\n",
    "quadPartSym = quadPartFun(paramTrue)\n",
    "detPartSym = detPartFun(paramTrue)\n",
    "\n",
    "valueJacSym = valueJacFun(paramTrue)\n",
    "\n",
    "# Test\n",
    "print quadPartSym, detPartSym, constPart\n",
    "print valueJacSym - gradTest"
   ]
  },
  {
   "cell_type": "code",
   "execution_count": 21,
   "metadata": {
    "collapsed": false,
    "run_control": {
     "read_only": false
    }
   },
   "outputs": [
    {
     "data": {
      "text/plain": [
       "-1.5655387814487174"
      ]
     },
     "execution_count": 21,
     "metadata": {},
     "output_type": "execute_result"
    }
   ],
   "source": [
    "logDetTriangular(CTrue)"
   ]
  },
  {
   "cell_type": "code",
   "execution_count": 22,
   "metadata": {
    "collapsed": false,
    "run_control": {
     "read_only": false
    }
   },
   "outputs": [
    {
     "data": {
      "text/plain": [
       "array([[1/Cs_0]], dtype=object)"
      ]
     },
     "execution_count": 22,
     "metadata": {},
     "output_type": "execute_result"
    }
   ],
   "source": [
    "su.simplify(Cinv)"
   ]
  },
  {
   "cell_type": "code",
   "execution_count": 23,
   "metadata": {
    "collapsed": false,
    "run_control": {
     "read_only": false
    }
   },
   "outputs": [
    {
     "data": {
      "text/plain": [
       "array([[1/Cs_0]], dtype=object)"
      ]
     },
     "execution_count": 23,
     "metadata": {},
     "output_type": "execute_result"
    }
   ],
   "source": [
    "Cinv"
   ]
  },
  {
   "cell_type": "code",
   "execution_count": null,
   "metadata": {
    "collapsed": true,
    "run_control": {
     "read_only": false
    }
   },
   "outputs": [],
   "source": []
  }
 ],
 "metadata": {
  "kernelspec": {
   "display_name": "Python 2",
   "language": "python",
   "name": "python2"
  },
  "language_info": {
   "codemirror_mode": {
    "name": "ipython",
    "version": 2
   },
   "file_extension": ".py",
   "mimetype": "text/x-python",
   "name": "python",
   "nbconvert_exporter": "python",
   "pygments_lexer": "ipython2",
   "version": "2.7.8"
  }
 },
 "nbformat": 4,
 "nbformat_minor": 0
}
