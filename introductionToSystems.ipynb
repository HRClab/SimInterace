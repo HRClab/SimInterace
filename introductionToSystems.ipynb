{
 "cells": [
  {
   "cell_type": "markdown",
   "metadata": {
    "collapsed": true,
    "run_control": {
     "read_only": false
    }
   },
   "source": [
    "# Dependencies\n",
    "\n",
    "The `SimInterface` package depends on the `Scipy` stack. So nothing will work if you don't have that installed.\n",
    "\n",
    "In order to see generate the block diagrams, you'll also need the `graphviz` package. \n",
    "\n",
    "# The DC Motor Example\n",
    "\n",
    "In this notebook, we'll demonstrate how to use the SimInterface package to build a model of a DC motor connected with an RL circuit. \n",
    "\n",
    "The dynamic equations are given by:\n",
    "\\begin{align*}\n",
    "L\\dot I + Ri &= V-K\\dot\\theta \\\\\n",
    "J\\ddot \\theta + b\\theta &= KI.\n",
    "\\end{align*}\n",
    "\n",
    "Here, $V$ is an input voltage, $I$ is the current through the circuit, and $\\theta$ is the angle of the motor. \n",
    "\n",
    "First, let's initialize the packages that we'll need. "
   ]
  },
  {
   "cell_type": "code",
   "execution_count": 1,
   "metadata": {
    "collapsed": false
   },
   "outputs": [],
   "source": [
    "import SimInterface as SI\n",
    "import matplotlib.pyplot as plt\n",
    "import numpy as np\n",
    "import scipy.integrate as integ\n",
    "%matplotlib inline"
   ]
  },
  {
   "cell_type": "markdown",
   "metadata": {},
   "source": [
    "# Defining Parameters\n",
    "\n",
    "This system depends on the parameters, $L$, $R$, $K$, $J$, and $b$. To run a simulation with a fixed parameter set, their values could be hard-coded into the description of the differential equations. However, in many studies it is useful to be able to see how the system response to variations in the parameters. \n",
    "\n",
    "To facilitate this, we have a dedicated class for static variables called `Parameter`. To see how it works, we'll just initialize all of the parameters to some nominal values."
   ]
  },
  {
   "cell_type": "code",
   "execution_count": 2,
   "metadata": {
    "collapsed": false
   },
   "outputs": [],
   "source": [
    "L = SI.Parameter(label='L',data=1.0)\n",
    "R = SI.Parameter(label='R',data=2.0)\n",
    "K = SI.Parameter(label='K',data=5.0)\n",
    "J = SI.Parameter(label='J',data=0.5)\n",
    "b = SI.Parameter(label='b',data=3.0)"
   ]
  },
  {
   "cell_type": "markdown",
   "metadata": {},
   "source": [
    "Every parameter instance has a Pandas dataframe attribute `.data`:"
   ]
  },
  {
   "cell_type": "code",
   "execution_count": 3,
   "metadata": {
    "collapsed": false
   },
   "outputs": [
    {
     "data": {
      "text/html": [
       "<div style=\"max-height:1000px;max-width:1500px;overflow:auto;\">\n",
       "<table border=\"1\" class=\"dataframe\">\n",
       "  <thead>\n",
       "    <tr style=\"text-align: right;\">\n",
       "      <th></th>\n",
       "      <th>L</th>\n",
       "    </tr>\n",
       "  </thead>\n",
       "  <tbody>\n",
       "    <tr>\n",
       "      <th>0</th>\n",
       "      <td> 1</td>\n",
       "    </tr>\n",
       "  </tbody>\n",
       "</table>\n",
       "</div>"
      ],
      "text/plain": [
       "   L\n",
       "0  1"
      ]
     },
     "execution_count": 3,
     "metadata": {},
     "output_type": "execute_result"
    }
   ],
   "source": [
    "L.data"
   ]
  },
  {
   "cell_type": "markdown",
   "metadata": {},
   "source": [
    "# Defining Signals\n",
    "\n",
    "The voltage, $V$ is an exogenous input signal. We will take it to be a sinusoid of period $2$ and amplitude $3$, lasting for $10s$.\n",
    "\n",
    "To define a `Signal`, we enter both the `data`, as well as time-stamps for the data. This is so that we know what time $V(t)$ takes a particular value."
   ]
  },
  {
   "cell_type": "code",
   "execution_count": 4,
   "metadata": {
    "collapsed": false
   },
   "outputs": [],
   "source": [
    "Time = np.linspace(0,10,101)\n",
    "Vsig = 3 * np.sin(np.pi * Time)\n",
    "V = SI.Signal(label='V',data=Vsig,TimeStamp=Time)"
   ]
  },
  {
   "cell_type": "markdown",
   "metadata": {},
   "source": [
    "Just like `Parameter` objects, the data for a `Signal` object is stored in a Pandas dataframe called `.data`. Let's look at the first 10 entries and also plot the data. "
   ]
  },
  {
   "cell_type": "code",
   "execution_count": 5,
   "metadata": {
    "collapsed": false,
    "run_control": {
     "read_only": false
    }
   },
   "outputs": [
    {
     "data": {
      "text/html": [
       "<div style=\"max-height:1000px;max-width:1500px;overflow:auto;\">\n",
       "<table border=\"1\" class=\"dataframe\">\n",
       "  <thead>\n",
       "    <tr style=\"text-align: right;\">\n",
       "      <th></th>\n",
       "      <th>V</th>\n",
       "    </tr>\n",
       "  </thead>\n",
       "  <tbody>\n",
       "    <tr>\n",
       "      <th>0.0</th>\n",
       "      <td> 0.000000</td>\n",
       "    </tr>\n",
       "    <tr>\n",
       "      <th>0.1</th>\n",
       "      <td> 0.927051</td>\n",
       "    </tr>\n",
       "    <tr>\n",
       "      <th>0.2</th>\n",
       "      <td> 1.763356</td>\n",
       "    </tr>\n",
       "    <tr>\n",
       "      <th>0.3</th>\n",
       "      <td> 2.427051</td>\n",
       "    </tr>\n",
       "    <tr>\n",
       "      <th>0.4</th>\n",
       "      <td> 2.853170</td>\n",
       "    </tr>\n",
       "    <tr>\n",
       "      <th>0.5</th>\n",
       "      <td> 3.000000</td>\n",
       "    </tr>\n",
       "    <tr>\n",
       "      <th>0.6</th>\n",
       "      <td> 2.853170</td>\n",
       "    </tr>\n",
       "    <tr>\n",
       "      <th>0.7</th>\n",
       "      <td> 2.427051</td>\n",
       "    </tr>\n",
       "    <tr>\n",
       "      <th>0.8</th>\n",
       "      <td> 1.763356</td>\n",
       "    </tr>\n",
       "    <tr>\n",
       "      <th>0.9</th>\n",
       "      <td> 0.927051</td>\n",
       "    </tr>\n",
       "  </tbody>\n",
       "</table>\n",
       "</div>"
      ],
      "text/plain": [
       "            V\n",
       "0.0  0.000000\n",
       "0.1  0.927051\n",
       "0.2  1.763356\n",
       "0.3  2.427051\n",
       "0.4  2.853170\n",
       "0.5  3.000000\n",
       "0.6  2.853170\n",
       "0.7  2.427051\n",
       "0.8  1.763356\n",
       "0.9  0.927051"
      ]
     },
     "execution_count": 5,
     "metadata": {},
     "output_type": "execute_result"
    }
   ],
   "source": [
    "V.data.iloc[:10]"
   ]
  },
  {
   "cell_type": "code",
   "execution_count": 6,
   "metadata": {
    "collapsed": false
   },
   "outputs": [
    {
     "data": {
      "text/plain": [
       "<matplotlib.text.Text at 0x108376450>"
      ]
     },
     "execution_count": 6,
     "metadata": {},
     "output_type": "execute_result"
    },
    {
     "data": {
      "image/png": "[encoded data removed]",
      "text/plain": [
       "<matplotlib.figure.Figure at 0x108325450>"
      ]
     },
     "metadata": {},
     "output_type": "display_data"
    }
   ],
   "source": [
    "plt.plot(Time,V.data)\n",
    "plt.xlabel('Time')\n",
    "plt.ylabel(V.label)"
   ]
  },
  {
   "cell_type": "markdown",
   "metadata": {},
   "source": [
    "# Defining the RL Circuit\n",
    "\n",
    "The equations are sufficiently simple that we could code up one differential equation for all of them. However, it is instructive to code up the individual component systems separately, and then connect then connect them up later. \n",
    "\n",
    "For just the RL circuit, the dynamics of the current are given in first-order form as\n",
    "\\begin{equation*}\n",
    "\\dot I = -\\frac{R}{L} I + \\frac{1}{L}V_{diff},\n",
    "\\end{equation*}\n",
    "where $V_{diff}$ is an auxilliary variable used in place of $V-K\\theta$.\n",
    "\n",
    "In code this is given by:"
   ]
  },
  {
   "cell_type": "code",
   "execution_count": 7,
   "metadata": {
    "collapsed": false,
    "run_control": {
     "read_only": false
    }
   },
   "outputs": [],
   "source": [
    "def RLVectorField(I,Vdiff,R,L):\n",
    "    Idot = -(R/L) * I + (1./L) * Vdiff\n",
    "    return Idot"
   ]
  },
  {
   "cell_type": "markdown",
   "metadata": {},
   "source": [
    "We'll initialize $V_{diff}$ as $V$, as we'll assume for now that $\\theta=0$. Later, we'll replace it with the true value of $V-K\\theta$. "
   ]
  },
  {
   "cell_type": "code",
   "execution_count": 8,
   "metadata": {
    "collapsed": true
   },
   "outputs": [],
   "source": [
    "Vdiff = SI.Signal(label='Vdiff',data=Vsig,TimeStamp=Time)"
   ]
  },
  {
   "cell_type": "markdown",
   "metadata": {},
   "source": [
    "## Caution: Argument names should match variable labels.\n",
    "\n",
    "It is important that in the function the arguments, `I`, `V`, `R`, and `L`, should match the labels given to associated signals and parameters. If they do not, the program will not know which data to associate with it.\n",
    "\n",
    "## Initializing the current\n",
    "We will assume that the initial current is given by $I(0) = -1$. We will store the current as a signal variable. At the moment, we only set the initial condition."
   ]
  },
  {
   "cell_type": "code",
   "execution_count": 9,
   "metadata": {
    "collapsed": false
   },
   "outputs": [
    {
     "data": {
      "text/html": [
       "<div style=\"max-height:1000px;max-width:1500px;overflow:auto;\">\n",
       "<table border=\"1\" class=\"dataframe\">\n",
       "  <thead>\n",
       "    <tr style=\"text-align: right;\">\n",
       "      <th></th>\n",
       "      <th>I</th>\n",
       "    </tr>\n",
       "  </thead>\n",
       "  <tbody>\n",
       "    <tr>\n",
       "      <th>0</th>\n",
       "      <td>-1</td>\n",
       "    </tr>\n",
       "  </tbody>\n",
       "</table>\n",
       "</div>"
      ],
      "text/plain": [
       "   I\n",
       "0 -1"
      ]
     },
     "execution_count": 9,
     "metadata": {},
     "output_type": "execute_result"
    }
   ],
   "source": [
    "I = SI.Signal(label='I',data=-1.,TimeStamp=0.)\n",
    "# Just display the signal to see that it worked.\n",
    "I.data"
   ]
  },
  {
   "cell_type": "markdown",
   "metadata": {},
   "source": [
    "## Creating the differential equation system\n",
    "\n"
   ]
  },
  {
   "cell_type": "markdown",
   "metadata": {},
   "source": [
    "We can create a differential equation system as follows.\n",
    "Note that we must group the variables as state variables and input variables. Otherwise the system will not know what variables are exogenous and what are state variables."
   ]
  },
  {
   "cell_type": "code",
   "execution_count": 10,
   "metadata": {
    "collapsed": false
   },
   "outputs": [
    {
     "data": {
      "image/svg+xml": [
       "<?xml version=\"1.0\" encoding=\"UTF-8\" standalone=\"no\"?>\n",
       "<!DOCTYPE svg PUBLIC \"-//W3C//DTD SVG 1.1//EN\"\n",
       " \"http://www.w3.org/Graphics/SVG/1.1/DTD/svg11.dtd\">\n",
       "<!-- Generated by graphviz version 2.38.0 (20140413.2041)\n",
       " -->\n",
       "<!-- Title: RL Pages: 1 -->\n",
       "<svg width=\"206pt\" height=\"216pt\"\n",
       " viewBox=\"0.00 0.00 206.00 216.00\" xmlns=\"http://www.w3.org/2000/svg\" xmlns:xlink=\"http://www.w3.org/1999/xlink\">\n",
       "<g id=\"graph0\" class=\"graph\" transform=\"scale(1 1) rotate(0) translate(4 212)\">\n",
       "<title>RL</title>\n",
       "<polygon fill=\"white\" stroke=\"none\" points=\"-4,4 -4,-212 202,-212 202,4 -4,4\"/>\n",
       "<!-- RL -->\n",
       "<g id=\"node1\" class=\"node\"><title>RL</title>\n",
       "<polygon fill=\"none\" stroke=\"black\" points=\"126,-122 72,-122 72,-86 126,-86 126,-122\"/>\n",
       "<text text-anchor=\"middle\" x=\"99\" y=\"-99.8\" font-family=\"Times,serif\" font-size=\"14.00\">RL</text>\n",
       "</g>\n",
       "<!-- Integrator -->\n",
       "<g id=\"node2\" class=\"node\"><title>Integrator</title>\n",
       "<polygon fill=\"none\" stroke=\"black\" points=\"134.694,-36 63.3064,-36 63.3064,-0 134.694,-0 134.694,-36\"/>\n",
       "<text text-anchor=\"middle\" x=\"99\" y=\"-13.8\" font-family=\"Times,serif\" font-size=\"14.00\">Integrator</text>\n",
       "</g>\n",
       "<!-- RL&#45;&gt;Integrator -->\n",
       "<g id=\"edge4\" class=\"edge\"><title>RL&#45;&gt;Integrator</title>\n",
       "<path fill=\"none\" stroke=\"black\" d=\"M81.9223,-85.862C77.7119,-80.5656 73.7763,-74.4227 71.5586,-68 68.8736,-60.2238 70.9395,-52.2507 74.9162,-45.0552\"/>\n",
       "<polygon fill=\"black\" stroke=\"black\" points=\"78.0486,-46.6717 80.7615,-36.4301 72.254,-42.7446 78.0486,-46.6717\"/>\n",
       "<text text-anchor=\"middle\" x=\"85.2207\" y=\"-56.8\" font-family=\"Times,serif\" font-size=\"14.00\">dI/dt</text>\n",
       "</g>\n",
       "<!-- Integrator&#45;&gt;RL -->\n",
       "<g id=\"edge1\" class=\"edge\"><title>Integrator&#45;&gt;RL</title>\n",
       "<path fill=\"none\" stroke=\"black\" d=\"M100.758,-36.071C101.265,-41.7664 101.75,-48.1506 102,-54 102.296,-60.9292 102.101,-68.4042 101.697,-75.378\"/>\n",
       "<polygon fill=\"black\" stroke=\"black\" points=\"98.1755,-75.5433 100.931,-85.7736 105.157,-76.0581 98.1755,-75.5433\"/>\n",
       "<text text-anchor=\"middle\" x=\"104.331\" y=\"-56.8\" font-family=\"Times,serif\" font-size=\"14.00\">I</text>\n",
       "</g>\n",
       "<!-- Vdiff -->\n",
       "<g id=\"node3\" class=\"node\"><title>Vdiff</title>\n",
       "</g>\n",
       "<!-- Vdiff&#45;&gt;RL -->\n",
       "<g id=\"edge2\" class=\"edge\"><title>Vdiff&#45;&gt;RL</title>\n",
       "<path fill=\"none\" stroke=\"black\" d=\"M39.5281,-171.841C46.7068,-162.261 56.0323,-150.231 64.9219,-140 67.9447,-136.521 71.2198,-132.942 74.5039,-129.462\"/>\n",
       "<polygon fill=\"black\" stroke=\"black\" points=\"77.1978,-131.71 81.6131,-122.079 72.1555,-126.855 77.1978,-131.71\"/>\n",
       "<text text-anchor=\"middle\" x=\"80.0391\" y=\"-142.8\" font-family=\"Times,serif\" font-size=\"14.00\">Vdiff</text>\n",
       "</g>\n",
       "<!-- R -->\n",
       "<g id=\"node4\" class=\"node\"><title>R</title>\n",
       "</g>\n",
       "<!-- R&#45;&gt;RL -->\n",
       "<g id=\"edge3\" class=\"edge\"><title>R&#45;&gt;RL</title>\n",
       "<path fill=\"none\" stroke=\"black\" d=\"M99,-171.595C99,-160.257 99,-145.227 99,-132.315\"/>\n",
       "<polygon fill=\"black\" stroke=\"black\" points=\"102.5,-132.095 99,-122.095 95.5001,-132.095 102.5,-132.095\"/>\n",
       "<text text-anchor=\"middle\" x=\"103.669\" y=\"-142.8\" font-family=\"Times,serif\" font-size=\"14.00\">R</text>\n",
       "</g>\n",
       "<!-- L -->\n",
       "<g id=\"node5\" class=\"node\"><title>L</title>\n",
       "</g>\n",
       "<!-- L&#45;&gt;RL -->\n",
       "<g id=\"edge5\" class=\"edge\"><title>L&#45;&gt;RL</title>\n",
       "<path fill=\"none\" stroke=\"black\" d=\"M156.082,-171.595C145.78,-159.577 131.923,-143.41 120.442,-130.015\"/>\n",
       "<polygon fill=\"black\" stroke=\"black\" points=\"122.818,-127.41 113.653,-122.095 117.504,-131.966 122.818,-127.41\"/>\n",
       "<text text-anchor=\"middle\" x=\"143.276\" y=\"-142.8\" font-family=\"Times,serif\" font-size=\"14.00\">L</text>\n",
       "</g>\n",
       "</g>\n",
       "</svg>\n"
      ],
      "text/plain": [
       "<graphviz.dot.Digraph at 0x10839b250>"
      ]
     },
     "execution_count": 10,
     "metadata": {},
     "output_type": "execute_result"
    }
   ],
   "source": [
    "RLEquation = SI.DifferentialEquation(func=RLVectorField,StateVars=I,InputVars=(Vdiff,R,L),label='RL')\n",
    "# If graphviz is installed a graph is automatically generated. It can be displayed as follows:\n",
    "RLEquation.graph"
   ]
  },
  {
   "cell_type": "markdown",
   "metadata": {},
   "source": [
    "## Simulating the RL Circuit\n",
    "\n",
    "Defining the differential equation creates a method called `.VectorField`. This method is a function of the form $f(t,x)$, corresponding to the differential equation:\n",
    "\\begin{equation*}\n",
    "\\dot x = f(t,x)\n",
    "\\end{equation*}\n",
    "Thus, the method can be used in conjunction with standard ODE integrators. \n",
    "\n",
    "In our particular example, $f$ corresponds to the vector field for the current, $I$. \n",
    "\n",
    "Likewise, it also creates an initial state, vector, `.InitialState`. This state may have some auxilliary variables that are used for efficiently calculating input signals. Thus, it might have higher dimension than you expect.\n",
    "\n",
    "Let's see how to simulate this."
   ]
  },
  {
   "cell_type": "code",
   "execution_count": 11,
   "metadata": {
    "collapsed": false
   },
   "outputs": [
    {
     "name": "stderr",
     "output_type": "stream",
     "text": [
      "/Library/Frameworks/Python.framework/Versions/2.7/lib/python2.7/site-packages/scipy/integrate/_ode.py:1018: UserWarning: dopri5: step size becomes too small\n",
      "  self.messages.get(idid, 'Unexpected idid=%s' % idid))\n"
     ]
    }
   ],
   "source": [
    "# This is a standard way to use the ODE class from scipy\n",
    "Integrator = integ.ode(RLEquation.VectorField)\n",
    "Integrator.set_integrator('dopri5').set_initial_value(RLEquation.InitialState)\n",
    "\n",
    "X = np.zeros((len(Time),2))\n",
    "for k in range(len(Time)):\n",
    "    t = Time[k]\n",
    "    x = Integrator.integrate(t)\n",
    "    X[k] = x"
   ]
  },
  {
   "cell_type": "markdown",
   "metadata": {},
   "source": [
    "## Putting the values into the Signal variables \n",
    "\n",
    "Simulating the differential equation defined by `RLEquation.VectorField` is a \"read-only\" operation in the sense that none of the signal variables, `I`, `Vdiff`, etc are updated in the process. Indeed, while $I$, the current was the desired state, the variable `I` data remains unchanged by the simulation process:"
   ]
  },
  {
   "cell_type": "code",
   "execution_count": 12,
   "metadata": {
    "collapsed": false
   },
   "outputs": [
    {
     "data": {
      "text/html": [
       "<div style=\"max-height:1000px;max-width:1500px;overflow:auto;\">\n",
       "<table border=\"1\" class=\"dataframe\">\n",
       "  <thead>\n",
       "    <tr style=\"text-align: right;\">\n",
       "      <th></th>\n",
       "      <th>I</th>\n",
       "    </tr>\n",
       "  </thead>\n",
       "  <tbody>\n",
       "    <tr>\n",
       "      <th>0</th>\n",
       "      <td>-1</td>\n",
       "    </tr>\n",
       "  </tbody>\n",
       "</table>\n",
       "</div>"
      ],
      "text/plain": [
       "   I\n",
       "0 -1"
      ]
     },
     "execution_count": 12,
     "metadata": {},
     "output_type": "execute_result"
    }
   ],
   "source": [
    "I.data"
   ]
  },
  {
   "cell_type": "markdown",
   "metadata": {},
   "source": [
    "We want the differential equations generated by `SimInterface` to behave just like those that would be coded \"by hand\". Thus, it is desirable that simulating the differential equation has no \"side effects\" that the user does not expect. One such side effect would be updating the data tables for the variables, such as `I`. \n",
    "\n",
    "In order to update the values we use the `.UpdateState` method. Once this is applied, the new data will be stored in `I`."
   ]
  },
  {
   "cell_type": "code",
   "execution_count": 13,
   "metadata": {
    "collapsed": false
   },
   "outputs": [
    {
     "data": {
      "text/plain": [
       "<matplotlib.legend.Legend at 0x108504350>"
      ]
     },
     "execution_count": 13,
     "metadata": {},
     "output_type": "execute_result"
    },
    {
     "data": {
      "image/png": "[encoded data removed]",
      "text/plain": [
       "<matplotlib.figure.Figure at 0x10848a990>"
      ]
     },
     "metadata": {},
     "output_type": "display_data"
    }
   ],
   "source": [
    "RLEquation.UpdateState(Time,X)\n",
    "VH = plt.plot(Time,Vdiff.data,label=Vdiff.label)[0]\n",
    "IH = plt.plot(Time,I.data,label=I.label)[0]\n",
    "plt.xlabel('Time')\n",
    "plt.legend(handles=(VH,IH))"
   ]
  },
  {
   "cell_type": "code",
   "execution_count": null,
   "metadata": {
    "collapsed": true
   },
   "outputs": [],
   "source": []
  }
 ],
 "metadata": {
  "kernelspec": {
   "display_name": "Python 2",
   "language": "python",
   "name": "python2"
  },
  "language_info": {
   "codemirror_mode": {
    "name": "ipython",
    "version": 2
   },
   "file_extension": ".py",
   "mimetype": "text/x-python",
   "name": "python",
   "nbconvert_exporter": "python",
   "pygments_lexer": "ipython2",
   "version": "2.7.8"
  }
 },
 "nbformat": 4,
 "nbformat_minor": 0
}
