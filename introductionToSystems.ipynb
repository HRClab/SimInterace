{
 "cells": [
  {
   "cell_type": "code",
   "execution_count": 1,
   "metadata": {
    "collapsed": false,
    "run_control": {
     "read_only": false
    }
   },
   "outputs": [
    {
     "name": "stdout",
     "output_type": "stream",
     "text": [
      "set([])\n"
     ]
    },
    {
     "ename": "TypeError",
     "evalue": "reduce() of empty sequence with no initial value",
     "output_type": "error",
     "traceback": [
      "\u001b[0;31m---------------------------------------------------------------------------\u001b[0m",
      "\u001b[0;31mTypeError\u001b[0m                                 Traceback (most recent call last)",
      "\u001b[0;32m<ipython-input-1-4bebb30476d6>\u001b[0m in \u001b[0;36m<module>\u001b[0;34m()\u001b[0m\n\u001b[1;32m     26\u001b[0m \u001b[0mStateFunc\u001b[0m \u001b[0;34m=\u001b[0m \u001b[0mSI\u001b[0m\u001b[0;34m.\u001b[0m\u001b[0mFunction\u001b[0m\u001b[0;34m(\u001b[0m\u001b[0mfunc\u001b[0m\u001b[0;34m=\u001b[0m\u001b[0msfun\u001b[0m\u001b[0;34m,\u001b[0m\u001b[0mInputVars\u001b[0m\u001b[0;34m=\u001b[0m\u001b[0;34m(\u001b[0m\u001b[0mX\u001b[0m\u001b[0;34m,\u001b[0m\u001b[0mW\u001b[0m\u001b[0;34m)\u001b[0m\u001b[0;34m,\u001b[0m\u001b[0mOutputVars\u001b[0m\u001b[0;34m=\u001b[0m\u001b[0mX_dot\u001b[0m\u001b[0;34m,\u001b[0m\u001b[0mlabel\u001b[0m\u001b[0;34m=\u001b[0m\u001b[0;34m'sfun'\u001b[0m\u001b[0;34m)\u001b[0m\u001b[0;34m\u001b[0m\u001b[0m\n\u001b[1;32m     27\u001b[0m \u001b[0mOutputFunc\u001b[0m \u001b[0;34m=\u001b[0m \u001b[0mSI\u001b[0m\u001b[0;34m.\u001b[0m\u001b[0mFunction\u001b[0m\u001b[0;34m(\u001b[0m\u001b[0mfunc\u001b[0m\u001b[0;34m=\u001b[0m\u001b[0mofun\u001b[0m\u001b[0;34m,\u001b[0m\u001b[0mInputVars\u001b[0m\u001b[0;34m=\u001b[0m\u001b[0;34m(\u001b[0m\u001b[0mX\u001b[0m\u001b[0;34m,\u001b[0m\u001b[0mW\u001b[0m\u001b[0;34m)\u001b[0m\u001b[0;34m,\u001b[0m\u001b[0mOutputVars\u001b[0m\u001b[0;34m=\u001b[0m\u001b[0;34m(\u001b[0m\u001b[0mY\u001b[0m\u001b[0;34m,\u001b[0m\u001b[0mZ\u001b[0m\u001b[0;34m)\u001b[0m\u001b[0;34m,\u001b[0m\u001b[0mlabel\u001b[0m\u001b[0;34m=\u001b[0m\u001b[0;34m'ofun'\u001b[0m\u001b[0;34m)\u001b[0m\u001b[0;34m\u001b[0m\u001b[0m\n\u001b[0;32m---> 28\u001b[0;31m \u001b[0mSys\u001b[0m \u001b[0;34m=\u001b[0m \u001b[0mSI\u001b[0m\u001b[0;34m.\u001b[0m\u001b[0mSystem\u001b[0m\u001b[0;34m(\u001b[0m\u001b[0mlabel\u001b[0m\u001b[0;34m=\u001b[0m\u001b[0;34m'Sys'\u001b[0m\u001b[0;34m)\u001b[0m\u001b[0;34m\u001b[0m\u001b[0m\n\u001b[0m\u001b[1;32m     29\u001b[0m \u001b[0mSys\u001b[0m\u001b[0;34m.\u001b[0m\u001b[0mgraph\u001b[0m\u001b[0;34m\u001b[0m\u001b[0m\n",
      "\u001b[0;32m/Users/robot/Cabinet/pyopticon/SimInterface/System.py\u001b[0m in \u001b[0;36m__init__\u001b[0;34m(self, Funcs, label)\u001b[0m\n\u001b[1;32m    116\u001b[0m     \u001b[0;32mdef\u001b[0m \u001b[0m__init__\u001b[0m\u001b[0;34m(\u001b[0m\u001b[0mself\u001b[0m\u001b[0;34m,\u001b[0m\u001b[0mFuncs\u001b[0m\u001b[0;34m=\u001b[0m\u001b[0mset\u001b[0m\u001b[0;34m(\u001b[0m\u001b[0;34m)\u001b[0m\u001b[0;34m,\u001b[0m\u001b[0mlabel\u001b[0m\u001b[0;34m=\u001b[0m\u001b[0;34m''\u001b[0m\u001b[0;34m)\u001b[0m\u001b[0;34m:\u001b[0m\u001b[0;34m\u001b[0m\u001b[0m\n\u001b[1;32m    117\u001b[0m         \u001b[0mself\u001b[0m\u001b[0;34m.\u001b[0m\u001b[0mlabel\u001b[0m\u001b[0;34m=\u001b[0m\u001b[0mlabel\u001b[0m\u001b[0;34m\u001b[0m\u001b[0m\n\u001b[0;32m--> 118\u001b[0;31m         \u001b[0mself\u001b[0m\u001b[0;34m.\u001b[0m\u001b[0m__buildSystem\u001b[0m\u001b[0;34m(\u001b[0m\u001b[0mFuncs\u001b[0m\u001b[0;34m)\u001b[0m\u001b[0;34m\u001b[0m\u001b[0m\n\u001b[0m\u001b[1;32m    119\u001b[0m \u001b[0;34m\u001b[0m\u001b[0m\n\u001b[1;32m    120\u001b[0m     \u001b[0;32mdef\u001b[0m \u001b[0madd\u001b[0m\u001b[0;34m(\u001b[0m\u001b[0mself\u001b[0m\u001b[0;34m,\u001b[0m\u001b[0mfunc\u001b[0m\u001b[0;34m)\u001b[0m\u001b[0;34m:\u001b[0m\u001b[0;34m\u001b[0m\u001b[0m\n",
      "\u001b[0;32m/Users/robot/Cabinet/pyopticon/SimInterface/System.py\u001b[0m in \u001b[0;36m__buildSystem\u001b[0;34m(self, Funcs)\u001b[0m\n\u001b[1;32m    132\u001b[0m \u001b[0;34m\u001b[0m\u001b[0m\n\u001b[1;32m    133\u001b[0m         \u001b[0;31m# Get all the variables\u001b[0m\u001b[0;34m\u001b[0m\u001b[0;34m\u001b[0m\u001b[0m\n\u001b[0;32m--> 134\u001b[0;31m         \u001b[0mself\u001b[0m\u001b[0;34m.\u001b[0m\u001b[0mVars\u001b[0m \u001b[0;34m=\u001b[0m \u001b[0mreduce\u001b[0m\u001b[0;34m(\u001b[0m\u001b[0;32mlambda\u001b[0m \u001b[0ma\u001b[0m\u001b[0;34m,\u001b[0m\u001b[0mb\u001b[0m \u001b[0;34m:\u001b[0m \u001b[0ma\u001b[0m\u001b[0;34m|\u001b[0m\u001b[0mb\u001b[0m\u001b[0;34m,\u001b[0m \u001b[0;34m[\u001b[0m\u001b[0mf\u001b[0m\u001b[0;34m.\u001b[0m\u001b[0mVars\u001b[0m \u001b[0;32mfor\u001b[0m \u001b[0mf\u001b[0m \u001b[0;32min\u001b[0m \u001b[0mself\u001b[0m\u001b[0;34m.\u001b[0m\u001b[0mFuncs\u001b[0m\u001b[0;34m]\u001b[0m\u001b[0;34m)\u001b[0m\u001b[0;34m\u001b[0m\u001b[0m\n\u001b[0m\u001b[1;32m    135\u001b[0m \u001b[0;34m\u001b[0m\u001b[0m\n\u001b[1;32m    136\u001b[0m         \u001b[0;31m# Build a dictionary from functions to inputs\u001b[0m\u001b[0;34m\u001b[0m\u001b[0;34m\u001b[0m\u001b[0m\n",
      "\u001b[0;31mTypeError\u001b[0m: reduce() of empty sequence with no initial value"
     ]
    }
   ],
   "source": [
    "import SimInterface as SI\n",
    "import numpy as np\n",
    "import numpy.random as rnd\n",
    "import pandas as pd\n",
    "import inspect\n",
    "import matplotlib.pyplot as plt\n",
    "import graphviz as gv\n",
    "%matplotlib inline\n",
    "\n",
    "Time = np.linspace(0,100,1001)\n",
    "\n",
    "X = SI.Signal(label='x',data=rnd.randn(3,4),shape=4)\n",
    "X_dot = SI.Signal(label='x_dot',shape=4)\n",
    "W = SI.Signal(label='w',data=rnd.randn(5,3),shape=3)\n",
    "V = SI.Signal(label='v',data=rnd.randn(8,5),shape=5)\n",
    "\n",
    "Y = SI.Signal(label='y',data=rnd.randn(1,2),shape=2)\n",
    "Z = SI.Signal(label='z',shape=3)\n",
    "\n",
    "def sfun(x,w):\n",
    "    return np.zeros(4)\n",
    "\n",
    "def ofun(x,w):\n",
    "    return np.zeros(2),np.zeros(3)\n",
    "\n",
    "StateFunc = SI.Function(func=sfun,InputVars=(X,W),OutputVars=X_dot,label='sfun')\n",
    "OutputFunc = SI.Function(func=ofun,InputVars=(X,W),OutputVars=(Y,Z),label='ofun')\n",
    "Sys = SI.System(label='Sys')\n",
    "Sys.graph"
   ]
  },
  {
   "cell_type": "code",
   "execution_count": 7,
   "metadata": {
    "collapsed": false,
    "run_control": {
     "read_only": false
    }
   },
   "outputs": [
    {
     "name": "stdout",
     "output_type": "stream",
     "text": [
      "set([<SimInterface.Function.Function instance at 0x107779248>, <SimInterface.Function.Function instance at 0x107761e60>])\n"
     ]
    },
    {
     "data": {
      "image/svg+xml": [
       "<?xml version=\"1.0\" encoding=\"UTF-8\" standalone=\"no\"?>\n",
       "<!DOCTYPE svg PUBLIC \"-//W3C//DTD SVG 1.1//EN\"\n",
       " \"http://www.w3.org/Graphics/SVG/1.1/DTD/svg11.dtd\">\n",
       "<!-- Generated by graphviz version 2.38.0 (20140413.2041)\n",
       " -->\n",
       "<!-- Title: Sys Pages: 1 -->\n",
       "<svg width=\"218pt\" height=\"216pt\"\n",
       " viewBox=\"0.00 0.00 218.00 216.00\" xmlns=\"http://www.w3.org/2000/svg\" xmlns:xlink=\"http://www.w3.org/1999/xlink\">\n",
       "<g id=\"graph0\" class=\"graph\" transform=\"scale(1 1) rotate(0) translate(4 212)\">\n",
       "<title>Sys</title>\n",
       "<polygon fill=\"white\" stroke=\"none\" points=\"-4,4 -4,-212 214,-212 214,4 -4,4\"/>\n",
       "<!-- ofun -->\n",
       "<g id=\"node1\" class=\"node\"><title>ofun</title>\n",
       "<polygon fill=\"none\" stroke=\"black\" points=\"123,-122 69,-122 69,-86 123,-86 123,-122\"/>\n",
       "<text text-anchor=\"middle\" x=\"96\" y=\"-99.8\" font-family=\"Times,serif\" font-size=\"14.00\">ofun</text>\n",
       "</g>\n",
       "<!-- z -->\n",
       "<g id=\"node3\" class=\"node\"><title>z</title>\n",
       "</g>\n",
       "<!-- ofun&#45;&gt;z -->\n",
       "<g id=\"edge1\" class=\"edge\"><title>ofun&#45;&gt;z</title>\n",
       "<path fill=\"none\" stroke=\"black\" d=\"M96.6216,-85.5951C97.0265,-74.2572 97.5633,-59.2271 98.0245,-46.3153\"/>\n",
       "<polygon fill=\"black\" stroke=\"black\" points=\"101.53,-46.2137 98.3895,-36.0952 94.5347,-45.9638 101.53,-46.2137\"/>\n",
       "<text text-anchor=\"middle\" x=\"100.107\" y=\"-56.8\" font-family=\"Times,serif\" font-size=\"14.00\">z</text>\n",
       "</g>\n",
       "<!-- y -->\n",
       "<g id=\"node5\" class=\"node\"><title>y</title>\n",
       "</g>\n",
       "<!-- ofun&#45;&gt;y -->\n",
       "<g id=\"edge4\" class=\"edge\"><title>ofun&#45;&gt;y</title>\n",
       "<path fill=\"none\" stroke=\"black\" d=\"M81.7032,-85.5951C71.831,-73.5769 58.5512,-57.4102 47.5483,-44.0153\"/>\n",
       "<polygon fill=\"black\" stroke=\"black\" points=\"50.0944,-41.6008 41.0424,-36.0952 44.6853,-46.044 50.0944,-41.6008\"/>\n",
       "<text text-anchor=\"middle\" x=\"69.5\" y=\"-56.8\" font-family=\"Times,serif\" font-size=\"14.00\">y</text>\n",
       "</g>\n",
       "<!-- sfun -->\n",
       "<g id=\"node2\" class=\"node\"><title>sfun</title>\n",
       "<polygon fill=\"none\" stroke=\"black\" points=\"204,-122 150,-122 150,-86 204,-86 204,-122\"/>\n",
       "<text text-anchor=\"middle\" x=\"177\" y=\"-99.8\" font-family=\"Times,serif\" font-size=\"14.00\">sfun</text>\n",
       "</g>\n",
       "<!-- x_dot -->\n",
       "<g id=\"node7\" class=\"node\"><title>x_dot</title>\n",
       "</g>\n",
       "<!-- sfun&#45;&gt;x_dot -->\n",
       "<g id=\"edge7\" class=\"edge\"><title>sfun&#45;&gt;x_dot</title>\n",
       "<path fill=\"none\" stroke=\"black\" d=\"M177,-85.5951C177,-74.2572 177,-59.2271 177,-46.3153\"/>\n",
       "<polygon fill=\"black\" stroke=\"black\" points=\"180.5,-46.0951 177,-36.0952 173.5,-46.0952 180.5,-46.0951\"/>\n",
       "<text text-anchor=\"middle\" x=\"192.945\" y=\"-56.8\" font-family=\"Times,serif\" font-size=\"14.00\">x_dot</text>\n",
       "</g>\n",
       "<!-- w -->\n",
       "<g id=\"node4\" class=\"node\"><title>w</title>\n",
       "</g>\n",
       "<!-- w&#45;&gt;ofun -->\n",
       "<g id=\"edge2\" class=\"edge\"><title>w&#45;&gt;ofun</title>\n",
       "<path fill=\"none\" stroke=\"black\" d=\"M98.3856,-171.806C96.5487,-166.214 94.807,-159.922 93.8896,-154 92.8289,-147.153 92.6558,-139.707 92.9131,-132.736\"/>\n",
       "<polygon fill=\"black\" stroke=\"black\" points=\"96.4341,-132.536 93.6062,-122.326 89.4496,-132.071 96.4341,-132.536\"/>\n",
       "<text text-anchor=\"middle\" x=\"99.0552\" y=\"-142.8\" font-family=\"Times,serif\" font-size=\"14.00\">w</text>\n",
       "</g>\n",
       "<!-- w&#45;&gt;sfun -->\n",
       "<g id=\"edge3\" class=\"edge\"><title>w&#45;&gt;sfun</title>\n",
       "<path fill=\"none\" stroke=\"black\" d=\"M110.081,-171.86C113.65,-161.827 119.174,-149.337 126.89,-140 131.06,-134.954 136.13,-130.307 141.424,-126.161\"/>\n",
       "<polygon fill=\"black\" stroke=\"black\" points=\"143.785,-128.772 149.83,-120.071 139.679,-123.103 143.785,-128.772\"/>\n",
       "<text text-anchor=\"middle\" x=\"131.055\" y=\"-142.8\" font-family=\"Times,serif\" font-size=\"14.00\">w</text>\n",
       "</g>\n",
       "<!-- x -->\n",
       "<g id=\"node6\" class=\"node\"><title>x</title>\n",
       "</g>\n",
       "<!-- x&#45;&gt;ofun -->\n",
       "<g id=\"edge5\" class=\"edge\"><title>x&#45;&gt;ofun</title>\n",
       "<path fill=\"none\" stroke=\"black\" d=\"M167.691,-171.776C158.948,-162.176 147.638,-150.148 137,-140 133.021,-136.205 128.71,-132.308 124.427,-128.557\"/>\n",
       "<polygon fill=\"black\" stroke=\"black\" points=\"126.69,-125.887 116.828,-122.014 122.122,-131.191 126.69,-125.887\"/>\n",
       "<text text-anchor=\"middle\" x=\"153.5\" y=\"-142.8\" font-family=\"Times,serif\" font-size=\"14.00\">x</text>\n",
       "</g>\n",
       "<!-- x&#45;&gt;sfun -->\n",
       "<g id=\"edge6\" class=\"edge\"><title>x&#45;&gt;sfun</title>\n",
       "<path fill=\"none\" stroke=\"black\" d=\"M181.757,-171.595C180.947,-160.257 179.873,-145.227 178.951,-132.315\"/>\n",
       "<polygon fill=\"black\" stroke=\"black\" points=\"182.425,-131.82 178.221,-122.095 175.443,-132.319 182.425,-131.82\"/>\n",
       "<text text-anchor=\"middle\" x=\"183.5\" y=\"-142.8\" font-family=\"Times,serif\" font-size=\"14.00\">x</text>\n",
       "</g>\n",
       "</g>\n",
       "</svg>\n"
      ],
      "text/plain": [
       "<graphviz.dot.Digraph at 0x10774d050>"
      ]
     },
     "execution_count": 7,
     "metadata": {},
     "output_type": "execute_result"
    }
   ],
   "source": [
    "Sys.add(OutputFunc)\n",
    "Sys.graph"
   ]
  },
  {
   "cell_type": "code",
   "execution_count": null,
   "metadata": {
    "collapsed": true,
    "run_control": {
     "read_only": false
    }
   },
   "outputs": [],
   "source": []
  },
  {
   "cell_type": "code",
   "execution_count": 3,
   "metadata": {
    "collapsed": false,
    "run_control": {
     "read_only": false
    }
   },
   "outputs": [
    {
     "data": {
      "text/plain": [
       "['w', 'x_dot', 'x']"
      ]
     },
     "execution_count": 3,
     "metadata": {},
     "output_type": "execute_result"
    }
   ],
   "source": [
    "[v.label for v in StateFunc.Vars]"
   ]
  },
  {
   "cell_type": "code",
   "execution_count": 5,
   "metadata": {
    "collapsed": false,
    "run_control": {
     "read_only": false
    }
   },
   "outputs": [
    {
     "data": {
      "image/svg+xml": [
       "<?xml version=\"1.0\" encoding=\"UTF-8\" standalone=\"no\"?>\n",
       "<!DOCTYPE svg PUBLIC \"-//W3C//DTD SVG 1.1//EN\"\n",
       " \"http://www.w3.org/Graphics/SVG/1.1/DTD/svg11.dtd\">\n",
       "<!-- Generated by graphviz version 2.38.0 (20140413.2041)\n",
       " -->\n",
       "<!-- Title: Network Pages: 1 -->\n",
       "<svg width=\"134pt\" height=\"302pt\"\n",
       " viewBox=\"0.00 0.00 134.00 302.00\" xmlns=\"http://www.w3.org/2000/svg\" xmlns:xlink=\"http://www.w3.org/1999/xlink\">\n",
       "<g id=\"graph0\" class=\"graph\" transform=\"scale(1 1) rotate(0) translate(4 298)\">\n",
       "<title>Network</title>\n",
       "<polygon fill=\"white\" stroke=\"none\" points=\"-4,4 -4,-298 130,-298 130,4 -4,4\"/>\n",
       "<!-- h -->\n",
       "<g id=\"node1\" class=\"node\"><title>h</title>\n",
       "<polygon fill=\"none\" stroke=\"black\" points=\"126,-208 72,-208 72,-172 126,-172 126,-208\"/>\n",
       "<text text-anchor=\"middle\" x=\"99\" y=\"-185.8\" font-family=\"Times,serif\" font-size=\"14.00\">h</text>\n",
       "</g>\n",
       "<!-- g -->\n",
       "<g id=\"node3\" class=\"node\"><title>g</title>\n",
       "<polygon fill=\"none\" stroke=\"black\" points=\"80,-122 26,-122 26,-86 80,-86 80,-122\"/>\n",
       "<text text-anchor=\"middle\" x=\"53\" y=\"-99.8\" font-family=\"Times,serif\" font-size=\"14.00\">g</text>\n",
       "</g>\n",
       "<!-- h&#45;&gt;g -->\n",
       "<g id=\"edge4\" class=\"edge\"><title>h&#45;&gt;g</title>\n",
       "<path fill=\"none\" stroke=\"black\" d=\"M89.4688,-171.595C83.0736,-159.917 74.5335,-144.322 67.3252,-131.159\"/>\n",
       "<polygon fill=\"black\" stroke=\"black\" points=\"70.2347,-129.185 62.3616,-122.095 64.095,-132.547 70.2347,-129.185\"/>\n",
       "<text text-anchor=\"middle\" x=\"81.5\" y=\"-142.8\" font-family=\"Times,serif\" font-size=\"14.00\">y</text>\n",
       "</g>\n",
       "<!-- x -->\n",
       "<g id=\"node2\" class=\"node\"><title>x</title>\n",
       "</g>\n",
       "<!-- x&#45;&gt;h -->\n",
       "<g id=\"edge1\" class=\"edge\"><title>x&#45;&gt;h</title>\n",
       "<path fill=\"none\" stroke=\"black\" d=\"M99,-257.595C99,-246.257 99,-231.227 99,-218.315\"/>\n",
       "<polygon fill=\"black\" stroke=\"black\" points=\"102.5,-218.095 99,-208.095 95.5001,-218.095 102.5,-218.095\"/>\n",
       "<text text-anchor=\"middle\" x=\"102.5\" y=\"-228.8\" font-family=\"Times,serif\" font-size=\"14.00\">x</text>\n",
       "</g>\n",
       "<!-- z -->\n",
       "<g id=\"node5\" class=\"node\"><title>z</title>\n",
       "</g>\n",
       "<!-- g&#45;&gt;z -->\n",
       "<g id=\"edge3\" class=\"edge\"><title>g&#45;&gt;z</title>\n",
       "<path fill=\"none\" stroke=\"black\" d=\"M53,-85.5951C53,-74.2572 53,-59.2271 53,-46.3153\"/>\n",
       "<polygon fill=\"black\" stroke=\"black\" points=\"56.5001,-46.0951 53,-36.0952 49.5001,-46.0952 56.5001,-46.0951\"/>\n",
       "<text text-anchor=\"middle\" x=\"56.1069\" y=\"-56.8\" font-family=\"Times,serif\" font-size=\"14.00\">z</text>\n",
       "</g>\n",
       "<!-- w -->\n",
       "<g id=\"node4\" class=\"node\"><title>w</title>\n",
       "</g>\n",
       "<!-- w&#45;&gt;g -->\n",
       "<g id=\"edge2\" class=\"edge\"><title>w&#45;&gt;g</title>\n",
       "<path fill=\"none\" stroke=\"black\" d=\"M32.3872,-171.595C35.9317,-160.144 40.6419,-144.926 44.665,-131.929\"/>\n",
       "<polygon fill=\"black\" stroke=\"black\" points=\"48.0952,-132.683 47.7086,-122.095 41.4082,-130.613 48.0952,-132.683\"/>\n",
       "<text text-anchor=\"middle\" x=\"46.0552\" y=\"-142.8\" font-family=\"Times,serif\" font-size=\"14.00\">w</text>\n",
       "</g>\n",
       "</g>\n",
       "</svg>\n"
      ],
      "text/plain": [
       "<graphviz.dot.Digraph at 0x107776590>"
      ]
     },
     "execution_count": 5,
     "metadata": {},
     "output_type": "execute_result"
    }
   ],
   "source": [
    "\n",
    "\n",
    "\n",
    "Mx2y = rnd.randn(2,4)\n",
    "def funcx2y(x):\n",
    "    return np.dot(Mx2y,x) \n",
    "    \n",
    "Mwy2z = rnd.randn(3,5)\n",
    "def funcwy2z(w,y):\n",
    "    iv = np.hstack((w,y))\n",
    "    return np.dot(Mwy2z,iv)\n",
    "    \n",
    "H = SI.Function(func=funcx2y,label='h',InputVars=X,OutputVars=Y)\n",
    "G = SI.Function(func=funcwy2z,label='g',InputVars=(W,Y),OutputVars=Z)\n",
    "\n",
    "N = SI.Network(Blocks=(H,G),label='Network')\n",
    "N.apply()\n",
    "N.graph"
   ]
  },
  {
   "cell_type": "code",
   "execution_count": 37,
   "metadata": {
    "collapsed": false,
    "run_control": {
     "read_only": false
    }
   },
   "outputs": [
    {
     "name": "stdout",
     "output_type": "stream",
     "text": [
      "[[0 0 1]\n",
      " [0 1 0]\n",
      " [1 0 0]]\n"
     ]
    }
   ],
   "source": [
    "A = np.array([[0,1,0],\n",
    "              [0,0,1],\n",
    "              [0,0,0]])\n",
    "B = np.array([[0],\n",
    "              [0],\n",
    "              [1]])\n",
    "C = np.array([[1,0,0]])\n",
    "\n",
    "Cont = np.hstack([B,np.dot(A,B),np.dot(A,np.dot(A,B))])\n",
    "Obs = np.vstack([C,np.dot(C,A),np.dot(np.dot(C,A),A)])\n",
    "print np.dot(Obs,Cont)"
   ]
  },
  {
   "cell_type": "code",
   "execution_count": null,
   "metadata": {
    "collapsed": false,
    "run_control": {
     "read_only": false
    }
   },
   "outputs": [],
   "source": [
    "N.InputData"
   ]
  },
  {
   "cell_type": "code",
   "execution_count": null,
   "metadata": {
    "collapsed": false,
    "run_control": {
     "read_only": false
    }
   },
   "outputs": [],
   "source": [
    "N.OutputData"
   ]
  },
  {
   "cell_type": "code",
   "execution_count": null,
   "metadata": {
    "collapsed": false,
    "run_control": {
     "read_only": false
    }
   },
   "outputs": [],
   "source": [
    "N.InternalData"
   ]
  }
 ],
 "metadata": {
  "kernelspec": {
   "display_name": "Python 2",
   "language": "python",
   "name": "python2"
  },
  "language_info": {
   "codemirror_mode": {
    "name": "ipython",
    "version": 2
   },
   "file_extension": ".py",
   "mimetype": "text/x-python",
   "name": "python",
   "nbconvert_exporter": "python",
   "pygments_lexer": "ipython2",
   "version": "2.7.8"
  }
 },
 "nbformat": 4,
 "nbformat_minor": 0
}
