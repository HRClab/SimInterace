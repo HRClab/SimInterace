{
 "cells": [
  {
   "cell_type": "markdown",
   "metadata": {
    "collapsed": true,
    "run_control": {
     "read_only": false
    }
   },
   "source": [
    "# Dependencies\n",
    "\n",
    "The `SimInterface` package depends on the `Scipy` stack. So nothing will work if you don't have that installed.\n",
    "\n",
    "In order to see generate the block diagrams, you'll also need the `graphviz` package. \n",
    "\n",
    "# The DC Motor Example\n",
    "\n",
    "In this notebook, we'll demonstrate how to use the SimInterface package to build a model of a DC motor connected with an RL circuit. \n",
    "\n",
    "The dynamic equations are given by:\n",
    "\\begin{align*}\n",
    "L\\dot I + RI &= V-K\\dot\\theta \\\\\n",
    "J\\ddot \\theta + b\\theta &= KI.\n",
    "\\end{align*}\n",
    "\n",
    "Here, $V$ is an input voltage, $I$ is the current through the circuit, and $\\theta$ is the angle of the motor. \n",
    "\n",
    "First, let's initialize the packages that we'll need. "
   ]
  },
  {
   "cell_type": "code",
   "execution_count": 1,
   "metadata": {
    "collapsed": false,
    "run_control": {
     "read_only": false
    }
   },
   "outputs": [],
   "source": [
    "import SimInterface as SI\n",
    "import matplotlib.pyplot as plt\n",
    "import numpy as np\n",
    "import scipy.integrate as integ\n",
    "%matplotlib inline"
   ]
  },
  {
   "cell_type": "markdown",
   "metadata": {},
   "source": [
    "# Defining Parameters\n",
    "\n",
    "This system depends on the parameters, $L$, $R$, $K$, $J$, and $b$. To run a simulation with a fixed parameter set, their values could be hard-coded into the description of the differential equations. However, in many studies it is useful to be able to see how the system response to variations in the parameters. \n",
    "\n",
    "To facilitate this, we have a dedicated class for static variables called `Parameter`. To see how it works, we'll just initialize all of the parameters to some nominal values."
   ]
  },
  {
   "cell_type": "code",
   "execution_count": 2,
   "metadata": {
    "collapsed": false,
    "run_control": {
     "read_only": false
    }
   },
   "outputs": [],
   "source": [
    "L = SI.Parameter(label='L',data=1.0)\n",
    "R = SI.Parameter(label='R',data=2.0)\n",
    "K = SI.Parameter(label='K',data=1.0)\n",
    "J = SI.Parameter(label='J',data=4.0)\n",
    "b = SI.Parameter(label='b',data=.5)"
   ]
  },
  {
   "cell_type": "markdown",
   "metadata": {},
   "source": [
    "Every parameter instance has a Pandas dataframe attribute `.data`:"
   ]
  },
  {
   "cell_type": "code",
   "execution_count": 3,
   "metadata": {
    "collapsed": false,
    "run_control": {
     "read_only": false
    }
   },
   "outputs": [
    {
     "data": {
      "text/html": [
       "<div>\n",
       "<table border=\"1\" class=\"dataframe\">\n",
       "  <thead>\n",
       "    <tr style=\"text-align: right;\">\n",
       "      <th></th>\n",
       "      <th></th>\n",
       "      <th>L</th>\n",
       "    </tr>\n",
       "  </thead>\n",
       "  <tbody>\n",
       "    <tr>\n",
       "      <th>Time</th>\n",
       "      <th>0</th>\n",
       "      <td>1</td>\n",
       "    </tr>\n",
       "  </tbody>\n",
       "</table>\n",
       "</div>"
      ],
      "text/plain": [
       "        L\n",
       "Time 0  1"
      ]
     },
     "execution_count": 3,
     "metadata": {},
     "output_type": "execute_result"
    }
   ],
   "source": [
    "L.data"
   ]
  },
  {
   "cell_type": "markdown",
   "metadata": {},
   "source": [
    "# Defining Signals\n",
    "\n",
    "The voltage, $V$ is an exogenous input signal. We will take it to be a sinusoid of period $2$ and amplitude $3$, lasting for $10s$.\n",
    "\n",
    "To define a `Signal`, we enter both the `data`, as well as time-stamps for the data. This is so that we know what time $V(t)$ takes a particular value."
   ]
  },
  {
   "cell_type": "code",
   "execution_count": 4,
   "metadata": {
    "collapsed": false,
    "run_control": {
     "read_only": false
    }
   },
   "outputs": [],
   "source": [
    "Time = np.linspace(0,5,500)\n",
    "Vsig = 3 * np.sin(np.pi * Time)\n",
    "V = SI.Signal(label='V',data=Vsig,TimeStamp=Time)"
   ]
  },
  {
   "cell_type": "markdown",
   "metadata": {},
   "source": [
    "Just like `Parameter` objects, the data for a `Signal` object is stored in a Pandas dataframe called `.data`. Let's look at the first 10 entries and also plot the data. "
   ]
  },
  {
   "cell_type": "code",
   "execution_count": 5,
   "metadata": {
    "collapsed": false,
    "run_control": {
     "read_only": false
    }
   },
   "outputs": [
    {
     "data": {
      "text/html": [
       "<div>\n",
       "<table border=\"1\" class=\"dataframe\">\n",
       "  <thead>\n",
       "    <tr style=\"text-align: right;\">\n",
       "      <th></th>\n",
       "      <th></th>\n",
       "      <th>V</th>\n",
       "    </tr>\n",
       "  </thead>\n",
       "  <tbody>\n",
       "    <tr>\n",
       "      <th rowspan=\"10\" valign=\"top\">Time</th>\n",
       "      <th>0.00000</th>\n",
       "      <td>0.000000</td>\n",
       "    </tr>\n",
       "    <tr>\n",
       "      <th>0.01002</th>\n",
       "      <td>0.094421</td>\n",
       "    </tr>\n",
       "    <tr>\n",
       "      <th>0.02004</th>\n",
       "      <td>0.188749</td>\n",
       "    </tr>\n",
       "    <tr>\n",
       "      <th>0.03006</th>\n",
       "      <td>0.282889</td>\n",
       "    </tr>\n",
       "    <tr>\n",
       "      <th>0.04008</th>\n",
       "      <td>0.376749</td>\n",
       "    </tr>\n",
       "    <tr>\n",
       "      <th>0.05010</th>\n",
       "      <td>0.470236</td>\n",
       "    </tr>\n",
       "    <tr>\n",
       "      <th>0.06012</th>\n",
       "      <td>0.563257</td>\n",
       "    </tr>\n",
       "    <tr>\n",
       "      <th>0.07014</th>\n",
       "      <td>0.655720</td>\n",
       "    </tr>\n",
       "    <tr>\n",
       "      <th>0.08016</th>\n",
       "      <td>0.747533</td>\n",
       "    </tr>\n",
       "    <tr>\n",
       "      <th>0.09018</th>\n",
       "      <td>0.838606</td>\n",
       "    </tr>\n",
       "  </tbody>\n",
       "</table>\n",
       "</div>"
      ],
      "text/plain": [
       "                     V\n",
       "Time 0.00000  0.000000\n",
       "     0.01002  0.094421\n",
       "     0.02004  0.188749\n",
       "     0.03006  0.282889\n",
       "     0.04008  0.376749\n",
       "     0.05010  0.470236\n",
       "     0.06012  0.563257\n",
       "     0.07014  0.655720\n",
       "     0.08016  0.747533\n",
       "     0.09018  0.838606"
      ]
     },
     "execution_count": 5,
     "metadata": {},
     "output_type": "execute_result"
    }
   ],
   "source": [
    "V.data.iloc[:10]"
   ]
  },
  {
   "cell_type": "code",
   "execution_count": 6,
   "metadata": {
    "collapsed": false,
    "run_control": {
     "read_only": false
    }
   },
   "outputs": [
    {
     "data": {
      "text/plain": [
       "<matplotlib.text.Text at 0x1085404d0>"
      ]
     },
     "execution_count": 6,
     "metadata": {},
     "output_type": "execute_result"
    },
    {
     "data": {
      "image/png": "[encoded data removed]",
      "text/plain": [
       "<matplotlib.figure.Figure at 0x103aa9990>"
      ]
     },
     "metadata": {},
     "output_type": "display_data"
    }
   ],
   "source": [
    "plt.plot(Time,V.data)\n",
    "plt.xlabel('Time')\n",
    "plt.ylabel(V.label)"
   ]
  },
  {
   "cell_type": "markdown",
   "metadata": {},
   "source": [
    "# Defining the RL Circuit\n",
    "\n",
    "The equations are sufficiently simple that we could code up one differential equation for all of them. However, it is instructive to code up the individual component systems separately, and then connect then connect them up later. \n",
    "\n",
    "For just the RL circuit, the dynamics of the current are given in first-order form as\n",
    "\\begin{equation*}\n",
    "\\dot I = -\\frac{R}{L} I + \\frac{1}{L}V_{diff},\n",
    "\\end{equation*}\n",
    "where $V_{diff}$ is an auxilliary variable used in place of $V-K\\theta$.\n",
    "\n",
    "In code this is given by:"
   ]
  },
  {
   "cell_type": "code",
   "execution_count": 7,
   "metadata": {
    "collapsed": false,
    "run_control": {
     "read_only": false
    }
   },
   "outputs": [],
   "source": [
    "def RLVectorField(I,Vdiff,R,L):\n",
    "    Idot = -(R/L) * I + (1./L) * Vdiff\n",
    "    return Idot"
   ]
  },
  {
   "cell_type": "markdown",
   "metadata": {},
   "source": [
    "We'll initialize $V_{diff}$ as $V$, as we'll assume for now that $\\theta=0$. Later, we'll replace it with the true value of $V-K\\theta$. "
   ]
  },
  {
   "cell_type": "code",
   "execution_count": 8,
   "metadata": {
    "collapsed": true,
    "run_control": {
     "read_only": false
    }
   },
   "outputs": [],
   "source": [
    "Vdiff = SI.Signal(label='Vdiff',data=Vsig,TimeStamp=Time)"
   ]
  },
  {
   "cell_type": "markdown",
   "metadata": {},
   "source": [
    "## Caution: Argument names should match variable labels.\n",
    "\n",
    "It is important that in the function the arguments, `I`, `V`, `R`, and `L`, should match the labels given to associated signals and parameters. If they do not, the program will not know which data to associate with it.\n",
    "\n",
    "## Initializing the current\n",
    "We will assume that the initial current is given by $I(0) = 1$. We will store the current as a signal variable. At the moment, we only set the initial condition."
   ]
  },
  {
   "cell_type": "code",
   "execution_count": 9,
   "metadata": {
    "collapsed": false,
    "run_control": {
     "read_only": false
    }
   },
   "outputs": [
    {
     "data": {
      "text/html": [
       "<div>\n",
       "<table border=\"1\" class=\"dataframe\">\n",
       "  <thead>\n",
       "    <tr style=\"text-align: right;\">\n",
       "      <th></th>\n",
       "      <th></th>\n",
       "      <th>I</th>\n",
       "    </tr>\n",
       "  </thead>\n",
       "  <tbody>\n",
       "    <tr>\n",
       "      <th>Time</th>\n",
       "      <th>0</th>\n",
       "      <td>1</td>\n",
       "    </tr>\n",
       "  </tbody>\n",
       "</table>\n",
       "</div>"
      ],
      "text/plain": [
       "        I\n",
       "Time 0  1"
      ]
     },
     "execution_count": 9,
     "metadata": {},
     "output_type": "execute_result"
    }
   ],
   "source": [
    "I = SI.Signal(label='I',data=1,TimeStamp=0.)\n",
    "# Just display the signal to see that it worked.\n",
    "I.data"
   ]
  },
  {
   "cell_type": "markdown",
   "metadata": {},
   "source": [
    "## Creating the differential equation system\n",
    "\n"
   ]
  },
  {
   "cell_type": "markdown",
   "metadata": {},
   "source": [
    "We can create a differential equation system as follows.\n",
    "Note that we must group the variables as state variables and input variables. Otherwise the system will not know what variables are exogenous and what are state variables."
   ]
  },
  {
   "cell_type": "code",
   "execution_count": 10,
   "metadata": {
    "collapsed": false,
    "run_control": {
     "read_only": false
    }
   },
   "outputs": [
    {
     "name": "stdout",
     "output_type": "stream",
     "text": [
      "[array(['dI/dt'], \n",
      "      dtype='|S5'), array([0])]\n"
     ]
    },
    {
     "data": {
      "image/svg+xml": [
       "<?xml version=\"1.0\" encoding=\"UTF-8\" standalone=\"no\"?>\n",
       "<!DOCTYPE svg PUBLIC \"-//W3C//DTD SVG 1.1//EN\"\n",
       " \"http://www.w3.org/Graphics/SVG/1.1/DTD/svg11.dtd\">\n",
       "<!-- Generated by graphviz version 2.38.0 (20140413.2041)\n",
       " -->\n",
       "<!-- Title: RL Circuit Pages: 1 -->\n",
       "<svg width=\"206pt\" height=\"117pt\"\n",
       " viewBox=\"0.00 0.00 206.00 117.00\" xmlns=\"http://www.w3.org/2000/svg\" xmlns:xlink=\"http://www.w3.org/1999/xlink\">\n",
       "<g id=\"graph0\" class=\"graph\" transform=\"scale(1 1) rotate(0) translate(4 113)\">\n",
       "<title>RL Circuit</title>\n",
       "<polygon fill=\"white\" stroke=\"none\" points=\"-4,4 -4,-113 202,-113 202,4 -4,4\"/>\n",
       "<!-- RL Circuit -->\n",
       "<g id=\"node1\" class=\"node\"><title>RL Circuit</title>\n",
       "<polygon fill=\"none\" stroke=\"black\" points=\"136.76,-36 61.2399,-36 61.2399,-0 136.76,-0 136.76,-36\"/>\n",
       "<text text-anchor=\"middle\" x=\"99\" y=\"-13.8\" font-family=\"Times,serif\" font-size=\"14.00\">RL Circuit</text>\n",
       "</g>\n",
       "<!-- RL Circuit&#45;&gt;RL Circuit -->\n",
       "<g id=\"edge4\" class=\"edge\"><title>RL Circuit&#45;&gt;RL Circuit</title>\n",
       "<path fill=\"none\" stroke=\"black\" d=\"M136.87,-24.7001C147.099,-24.3467 154.88,-22.1133 154.88,-18 154.88,-15.4292 151.84,-13.5927 147.063,-12.4906\"/>\n",
       "<polygon fill=\"black\" stroke=\"black\" points=\"147.209,-8.98387 136.87,-11.2999 146.397,-15.9366 147.209,-8.98387\"/>\n",
       "<text text-anchor=\"middle\" x=\"157.211\" y=\"-13.8\" font-family=\"Times,serif\" font-size=\"14.00\">I</text>\n",
       "</g>\n",
       "<!-- R -->\n",
       "<g id=\"node2\" class=\"node\"><title>R</title>\n",
       "<text text-anchor=\"middle\" x=\"27\" y=\"-86.8\" font-family=\"Times,serif\" font-size=\"14.00\">R</text>\n",
       "</g>\n",
       "<!-- R&#45;&gt;RL Circuit -->\n",
       "<g id=\"edge1\" class=\"edge\"><title>R&#45;&gt;RL Circuit</title>\n",
       "<path fill=\"none\" stroke=\"black\" d=\"M44.4292,-72.8129C53.45,-63.9174 64.613,-52.9094 74.4879,-43.1717\"/>\n",
       "<polygon fill=\"black\" stroke=\"black\" points=\"77.0685,-45.5425 81.7313,-36.0288 72.1534,-40.5582 77.0685,-45.5425\"/>\n",
       "</g>\n",
       "<!-- L -->\n",
       "<g id=\"node3\" class=\"node\"><title>L</title>\n",
       "<text text-anchor=\"middle\" x=\"99\" y=\"-86.8\" font-family=\"Times,serif\" font-size=\"14.00\">L</text>\n",
       "</g>\n",
       "<!-- L&#45;&gt;RL Circuit -->\n",
       "<g id=\"edge2\" class=\"edge\"><title>L&#45;&gt;RL Circuit</title>\n",
       "<path fill=\"none\" stroke=\"black\" d=\"M99,-72.8129C99,-64.7895 99,-55.0475 99,-46.0691\"/>\n",
       "<polygon fill=\"black\" stroke=\"black\" points=\"102.5,-46.0288 99,-36.0288 95.5001,-46.0289 102.5,-46.0288\"/>\n",
       "</g>\n",
       "<!-- Vdiff -->\n",
       "<g id=\"node4\" class=\"node\"><title>Vdiff</title>\n",
       "<text text-anchor=\"middle\" x=\"171\" y=\"-86.8\" font-family=\"Times,serif\" font-size=\"14.00\">Vdiff</text>\n",
       "</g>\n",
       "<!-- Vdiff&#45;&gt;RL Circuit -->\n",
       "<g id=\"edge3\" class=\"edge\"><title>Vdiff&#45;&gt;RL Circuit</title>\n",
       "<path fill=\"none\" stroke=\"black\" d=\"M153.571,-72.8129C144.55,-63.9174 133.387,-52.9094 123.512,-43.1717\"/>\n",
       "<polygon fill=\"black\" stroke=\"black\" points=\"125.847,-40.5582 116.269,-36.0288 120.932,-45.5425 125.847,-40.5582\"/>\n",
       "</g>\n",
       "</g>\n",
       "</svg>\n"
      ],
      "text/plain": [
       "<graphviz.dot.Digraph at 0x10855e410>"
      ]
     },
     "execution_count": 10,
     "metadata": {},
     "output_type": "execute_result"
    }
   ],
   "source": [
    "RLEquation = SI.DifferentialEquation(func=RLVectorField,StateVars=I,InputVars=(Vdiff,R,L),label='RL Circuit')\n",
    "# If graphviz is installed a graph is automatically generated. It can be displayed as follows:\n",
    "RLEquation.graph"
   ]
  },
  {
   "cell_type": "markdown",
   "metadata": {},
   "source": [
    "## Simulating the RL Circuit\n",
    "\n",
    "Defining the differential equation creates a method called `.VectorField`. This method is a function of the form $f(t,x)$, corresponding to the differential equation:\n",
    "\\begin{equation*}\n",
    "\\dot x = f(t,x)\n",
    "\\end{equation*}\n",
    "Thus, the method can be used in conjunction with standard ODE integrators. \n",
    "\n",
    "In our particular example, $f$ corresponds to the vector field for the current, $I$. \n",
    "\n",
    "Likewise, it also creates an initial state, vector, `.InitialState`. \n",
    "\n",
    "Let's see how to simulate this."
   ]
  },
  {
   "cell_type": "code",
   "execution_count": 11,
   "metadata": {
    "collapsed": false,
    "run_control": {
     "read_only": false
    }
   },
   "outputs": [
    {
     "name": "stderr",
     "output_type": "stream",
     "text": [
      "/Library/Frameworks/Python.framework/Versions/2.7/lib/python2.7/site-packages/scipy/integrate/_ode.py:1018: UserWarning: dopri5: step size becomes too small\n",
      "  self.messages.get(idid, 'Unexpected idid=%s' % idid))\n"
     ]
    }
   ],
   "source": [
    "# This is a standard way to use the ODE class from scipy\n",
    "Integrator = integ.ode(RLEquation.VectorField)\n",
    "Integrator.set_integrator('dopri5').set_initial_value(RLEquation.InitialState,0.0)\n",
    "\n",
    "X = np.zeros((len(Time),2))\n",
    "for k in range(len(Time)):\n",
    "    t = Time[k]\n",
    "    x = Integrator.integrate(t)\n",
    "    X[k] = x"
   ]
  },
  {
   "cell_type": "markdown",
   "metadata": {},
   "source": [
    "## Putting the values into the Signal variables \n",
    "\n",
    "Simulating the differential equation defined by `RLEquation.VectorField` is a \"read-only\" operation in the sense that none of the signal variables, `I`, `Vdiff`, etc are updated in the process. Indeed, while $I$, the current was the desired state, the variable `I` data remains unchanged by the simulation process:"
   ]
  },
  {
   "cell_type": "code",
   "execution_count": 12,
   "metadata": {
    "collapsed": false,
    "run_control": {
     "read_only": false
    }
   },
   "outputs": [
    {
     "data": {
      "text/html": [
       "<div>\n",
       "<table border=\"1\" class=\"dataframe\">\n",
       "  <thead>\n",
       "    <tr style=\"text-align: right;\">\n",
       "      <th></th>\n",
       "      <th></th>\n",
       "      <th>I</th>\n",
       "    </tr>\n",
       "  </thead>\n",
       "  <tbody>\n",
       "    <tr>\n",
       "      <th>Time</th>\n",
       "      <th>0</th>\n",
       "      <td>1</td>\n",
       "    </tr>\n",
       "  </tbody>\n",
       "</table>\n",
       "</div>"
      ],
      "text/plain": [
       "        I\n",
       "Time 0  1"
      ]
     },
     "execution_count": 12,
     "metadata": {},
     "output_type": "execute_result"
    }
   ],
   "source": [
    "I.data"
   ]
  },
  {
   "cell_type": "markdown",
   "metadata": {},
   "source": [
    "We want the differential equations generated by `SimInterface` to behave just like those that would be coded \"by hand\". Thus, it is desirable that simulating the differential equation has no \"side effects\" that the user does not expect. One such side effect would be updating the data tables for the variables, such as `I`. \n",
    "\n",
    "In order to update the values we use the `.UpdateSignals` method. Once this is applied, the new data will be stored in `I`."
   ]
  },
  {
   "cell_type": "code",
   "execution_count": 13,
   "metadata": {
    "collapsed": false,
    "run_control": {
     "read_only": false
    }
   },
   "outputs": [
    {
     "data": {
      "text/plain": [
       "<matplotlib.legend.Legend at 0x1086c6690>"
      ]
     },
     "execution_count": 13,
     "metadata": {},
     "output_type": "execute_result"
    },
    {
     "data": {
      "image/png": "[encoded data removed]",
      "text/plain": [
       "<matplotlib.figure.Figure at 0x108540a50>"
      ]
     },
     "metadata": {},
     "output_type": "display_data"
    }
   ],
   "source": [
    "RLEquation.UpdateSignals(Time,X)\n",
    "VH = plt.plot(Time,Vdiff.data,label=Vdiff.label)[0]\n",
    "IH = plt.plot(Time,I.data,label=I.label)[0]\n",
    "plt.xlabel('Time')\n",
    "plt.legend(handles=(VH,IH))"
   ]
  },
  {
   "cell_type": "markdown",
   "metadata": {
    "collapsed": true,
    "run_control": {
     "read_only": false
    }
   },
   "source": [
    "# Defining the Motor\n",
    "\n",
    "Recall the equation for the motor was given by:\n",
    "\n",
    "\\begin{equation*}\n",
    "J \\ddot \\theta + b\\dot\\theta = KI.\n",
    "\\end{equation*}\n",
    "\n",
    "This equation is of second-order. We can put it into first-order form by setting $\\omega = \\dot\\theta$:\n",
    "\\begin{align*}\n",
    "\\dot\\theta &= \\omega \\\\\n",
    "\\dot\\omega &= -\\frac{b}{J}\\omega + \\frac{K}{J} I.\n",
    "\\end{align*}\n",
    "\n",
    "In code, we can define this as:"
   ]
  },
  {
   "cell_type": "code",
   "execution_count": 14,
   "metadata": {
    "collapsed": true,
    "run_control": {
     "read_only": false
    }
   },
   "outputs": [],
   "source": [
    "def MotorVectorField(theta,omega,I,J,b,K):\n",
    "    theta_dot = omega\n",
    "    omega_dot = -(b/J) * omega + (K/J) * I\n",
    "    return theta_dot, omega_dot"
   ]
  },
  {
   "cell_type": "code",
   "execution_count": 15,
   "metadata": {
    "collapsed": false,
    "run_control": {
     "read_only": false
    }
   },
   "outputs": [
    {
     "name": "stdout",
     "output_type": "stream",
     "text": [
      "[array(['dtheta/dt'], \n",
      "      dtype='|S9'), array([0])]\n",
      "[array(['domega/dt'], \n",
      "      dtype='|S9'), array([0])]\n"
     ]
    },
    {
     "data": {
      "image/svg+xml": [
       "<?xml version=\"1.0\" encoding=\"UTF-8\" standalone=\"no\"?>\n",
       "<!DOCTYPE svg PUBLIC \"-//W3C//DTD SVG 1.1//EN\"\n",
       " \"http://www.w3.org/Graphics/SVG/1.1/DTD/svg11.dtd\">\n",
       "<!-- Generated by graphviz version 2.38.0 (20140413.2041)\n",
       " -->\n",
       "<!-- Title: Motor Pages: 1 -->\n",
       "<svg width=\"278pt\" height=\"117pt\"\n",
       " viewBox=\"0.00 0.00 278.00 117.00\" xmlns=\"http://www.w3.org/2000/svg\" xmlns:xlink=\"http://www.w3.org/1999/xlink\">\n",
       "<g id=\"graph0\" class=\"graph\" transform=\"scale(1 1) rotate(0) translate(4 113)\">\n",
       "<title>Motor</title>\n",
       "<polygon fill=\"white\" stroke=\"none\" points=\"-4,4 -4,-113 274,-113 274,4 -4,4\"/>\n",
       "<!-- Motor -->\n",
       "<g id=\"node1\" class=\"node\"><title>Motor</title>\n",
       "<polygon fill=\"none\" stroke=\"black\" points=\"162,-36 108,-36 108,-0 162,-0 162,-36\"/>\n",
       "<text text-anchor=\"middle\" x=\"135\" y=\"-13.8\" font-family=\"Times,serif\" font-size=\"14.00\">Motor</text>\n",
       "</g>\n",
       "<!-- Motor&#45;&gt;Motor -->\n",
       "<g id=\"edge5\" class=\"edge\"><title>Motor&#45;&gt;Motor</title>\n",
       "<path fill=\"none\" stroke=\"black\" d=\"M162.241,-21.3717C172.024,-21.4442 180,-20.3203 180,-18 180,-16.5861 177.038,-15.6164 172.51,-15.091\"/>\n",
       "<polygon fill=\"black\" stroke=\"black\" points=\"172.388,-11.582 162.241,-14.6283 172.073,-18.5749 172.388,-11.582\"/>\n",
       "<text text-anchor=\"middle\" x=\"193.604\" y=\"-13.8\" font-family=\"Times,serif\" font-size=\"14.00\">theta</text>\n",
       "</g>\n",
       "<!-- Motor&#45;&gt;Motor -->\n",
       "<g id=\"edge6\" class=\"edge\"><title>Motor&#45;&gt;Motor</title>\n",
       "<path fill=\"none\" stroke=\"black\" d=\"M162.177,-23.9157C183.822,-26.0539 207.207,-24.082 207.207,-18 207.207,-12.8683 190.559,-10.6626 172.355,-11.383\"/>\n",
       "<polygon fill=\"black\" stroke=\"black\" points=\"171.913,-7.90508 162.177,-12.0843 172.394,-14.8885 171.913,-7.90508\"/>\n",
       "<text text-anchor=\"middle\" x=\"225.866\" y=\"-13.8\" font-family=\"Times,serif\" font-size=\"14.00\">omega</text>\n",
       "</g>\n",
       "<!-- J -->\n",
       "<g id=\"node2\" class=\"node\"><title>J</title>\n",
       "<text text-anchor=\"middle\" x=\"27\" y=\"-86.8\" font-family=\"Times,serif\" font-size=\"14.00\">J</text>\n",
       "</g>\n",
       "<!-- J&#45;&gt;Motor -->\n",
       "<g id=\"edge1\" class=\"edge\"><title>J&#45;&gt;Motor</title>\n",
       "<path fill=\"none\" stroke=\"black\" d=\"M52.8687,-72.9937C67.0578,-63.6657 84.8421,-51.9742 100.23,-41.858\"/>\n",
       "<polygon fill=\"black\" stroke=\"black\" points=\"102.535,-44.5316 108.968,-36.1136 98.6893,-38.6823 102.535,-44.5316\"/>\n",
       "</g>\n",
       "<!-- K -->\n",
       "<g id=\"node3\" class=\"node\"><title>K</title>\n",
       "<text text-anchor=\"middle\" x=\"99\" y=\"-86.8\" font-family=\"Times,serif\" font-size=\"14.00\">K</text>\n",
       "</g>\n",
       "<!-- K&#45;&gt;Motor -->\n",
       "<g id=\"edge2\" class=\"edge\"><title>K&#45;&gt;Motor</title>\n",
       "<path fill=\"none\" stroke=\"black\" d=\"M107.715,-72.8129C111.915,-64.5279 117.045,-54.4103 121.719,-45.1933\"/>\n",
       "<polygon fill=\"black\" stroke=\"black\" points=\"124.965,-46.5307 126.366,-36.0288 118.722,-43.365 124.965,-46.5307\"/>\n",
       "</g>\n",
       "<!-- b -->\n",
       "<g id=\"node4\" class=\"node\"><title>b</title>\n",
       "<text text-anchor=\"middle\" x=\"171\" y=\"-86.8\" font-family=\"Times,serif\" font-size=\"14.00\">b</text>\n",
       "</g>\n",
       "<!-- b&#45;&gt;Motor -->\n",
       "<g id=\"edge3\" class=\"edge\"><title>b&#45;&gt;Motor</title>\n",
       "<path fill=\"none\" stroke=\"black\" d=\"M162.285,-72.8129C158.085,-64.5279 152.955,-54.4103 148.281,-45.1933\"/>\n",
       "<polygon fill=\"black\" stroke=\"black\" points=\"151.278,-43.365 143.634,-36.0288 145.035,-46.5307 151.278,-43.365\"/>\n",
       "</g>\n",
       "<!-- I -->\n",
       "<g id=\"node5\" class=\"node\"><title>I</title>\n",
       "<text text-anchor=\"middle\" x=\"243\" y=\"-86.8\" font-family=\"Times,serif\" font-size=\"14.00\">I</text>\n",
       "</g>\n",
       "<!-- I&#45;&gt;Motor -->\n",
       "<g id=\"edge4\" class=\"edge\"><title>I&#45;&gt;Motor</title>\n",
       "<path fill=\"none\" stroke=\"black\" d=\"M217.131,-72.9937C202.942,-63.6657 185.158,-51.9742 169.77,-41.858\"/>\n",
       "<polygon fill=\"black\" stroke=\"black\" points=\"171.311,-38.6823 161.032,-36.1136 167.465,-44.5316 171.311,-38.6823\"/>\n",
       "</g>\n",
       "</g>\n",
       "</svg>\n"
      ],
      "text/plain": [
       "<graphviz.dot.Digraph at 0x108659850>"
      ]
     },
     "execution_count": 15,
     "metadata": {},
     "output_type": "execute_result"
    }
   ],
   "source": [
    "theta = SI.Signal(label='theta',data=0.,TimeStamp=0)\n",
    "omega = SI.Signal(label='omega',data=0.,TimeStamp=0)\n",
    "MotorEquation = SI.DifferentialEquation(func=MotorVectorField,StateVars=(theta,omega),InputVars=(I,J,b,K),\n",
    "                                        label='Motor')\n",
    "MotorEquation.graph"
   ]
  },
  {
   "cell_type": "code",
   "execution_count": 16,
   "metadata": {
    "collapsed": true,
    "run_control": {
     "read_only": false
    }
   },
   "outputs": [],
   "source": [
    "def VdiffFunc(V,omega,K):\n",
    "    Vdiff = V - K * omega\n",
    "    return Vdiff"
   ]
  },
  {
   "cell_type": "code",
   "execution_count": 17,
   "metadata": {
    "collapsed": false,
    "run_control": {
     "read_only": false
    }
   },
   "outputs": [
    {
     "data": {
      "image/svg+xml": [
       "<?xml version=\"1.0\" encoding=\"UTF-8\" standalone=\"no\"?>\n",
       "<!DOCTYPE svg PUBLIC \"-//W3C//DTD SVG 1.1//EN\"\n",
       " \"http://www.w3.org/Graphics/SVG/1.1/DTD/svg11.dtd\">\n",
       "<!-- Generated by graphviz version 2.38.0 (20140413.2041)\n",
       " -->\n",
       "<!-- Title: V&#45;K*omega Pages: 1 -->\n",
       "<svg width=\"206pt\" height=\"188pt\"\n",
       " viewBox=\"0.00 0.00 206.00 188.00\" xmlns=\"http://www.w3.org/2000/svg\" xmlns:xlink=\"http://www.w3.org/1999/xlink\">\n",
       "<g id=\"graph0\" class=\"graph\" transform=\"scale(1 1) rotate(0) translate(4 184)\">\n",
       "<title>V&#45;K*omega</title>\n",
       "<polygon fill=\"white\" stroke=\"none\" points=\"-4,4 -4,-184 202,-184 202,4 -4,4\"/>\n",
       "<!-- V&#45;K*omega -->\n",
       "<g id=\"node1\" class=\"node\"><title>V&#45;K*omega</title>\n",
       "<polygon fill=\"none\" stroke=\"black\" points=\"140.915,-108 57.0849,-108 57.0849,-72 140.915,-72 140.915,-108\"/>\n",
       "<text text-anchor=\"middle\" x=\"99\" y=\"-85.8\" font-family=\"Times,serif\" font-size=\"14.00\">V&#45;K*omega</text>\n",
       "</g>\n",
       "<!-- Vdiff -->\n",
       "<g id=\"node2\" class=\"node\"><title>Vdiff</title>\n",
       "<text text-anchor=\"middle\" x=\"99\" y=\"-13.8\" font-family=\"Times,serif\" font-size=\"14.00\">Vdiff</text>\n",
       "</g>\n",
       "<!-- V&#45;K*omega&#45;&gt;Vdiff -->\n",
       "<g id=\"edge1\" class=\"edge\"><title>V&#45;K*omega&#45;&gt;Vdiff</title>\n",
       "<path fill=\"none\" stroke=\"black\" d=\"M99,-71.6966C99,-63.9827 99,-54.7125 99,-46.1124\"/>\n",
       "<polygon fill=\"black\" stroke=\"black\" points=\"102.5,-46.1043 99,-36.1043 95.5001,-46.1044 102.5,-46.1043\"/>\n",
       "</g>\n",
       "<!-- K -->\n",
       "<g id=\"node3\" class=\"node\"><title>K</title>\n",
       "<text text-anchor=\"middle\" x=\"27\" y=\"-157.8\" font-family=\"Times,serif\" font-size=\"14.00\">K</text>\n",
       "</g>\n",
       "<!-- K&#45;&gt;V&#45;K*omega -->\n",
       "<g id=\"edge2\" class=\"edge\"><title>K&#45;&gt;V&#45;K*omega</title>\n",
       "<path fill=\"none\" stroke=\"black\" d=\"M44.7978,-143.697C53.604,-135.135 64.3821,-124.656 74.0011,-115.304\"/>\n",
       "<polygon fill=\"black\" stroke=\"black\" points=\"76.6768,-117.585 81.407,-108.104 71.7972,-112.566 76.6768,-117.585\"/>\n",
       "</g>\n",
       "<!-- omega -->\n",
       "<g id=\"node4\" class=\"node\"><title>omega</title>\n",
       "<text text-anchor=\"middle\" x=\"99\" y=\"-157.8\" font-family=\"Times,serif\" font-size=\"14.00\">omega</text>\n",
       "</g>\n",
       "<!-- omega&#45;&gt;V&#45;K*omega -->\n",
       "<g id=\"edge3\" class=\"edge\"><title>omega&#45;&gt;V&#45;K*omega</title>\n",
       "<path fill=\"none\" stroke=\"black\" d=\"M99,-143.697C99,-135.983 99,-126.712 99,-118.112\"/>\n",
       "<polygon fill=\"black\" stroke=\"black\" points=\"102.5,-118.104 99,-108.104 95.5001,-118.104 102.5,-118.104\"/>\n",
       "</g>\n",
       "<!-- V -->\n",
       "<g id=\"node5\" class=\"node\"><title>V</title>\n",
       "<text text-anchor=\"middle\" x=\"171\" y=\"-157.8\" font-family=\"Times,serif\" font-size=\"14.00\">V</text>\n",
       "</g>\n",
       "<!-- V&#45;&gt;V&#45;K*omega -->\n",
       "<g id=\"edge4\" class=\"edge\"><title>V&#45;&gt;V&#45;K*omega</title>\n",
       "<path fill=\"none\" stroke=\"black\" d=\"M153.202,-143.697C144.396,-135.135 133.618,-124.656 123.999,-115.304\"/>\n",
       "<polygon fill=\"black\" stroke=\"black\" points=\"126.203,-112.566 116.593,-108.104 121.323,-117.585 126.203,-112.566\"/>\n",
       "</g>\n",
       "</g>\n",
       "</svg>\n"
      ],
      "text/plain": [
       "<graphviz.dot.Digraph at 0x1085400d0>"
      ]
     },
     "execution_count": 17,
     "metadata": {},
     "output_type": "execute_result"
    }
   ],
   "source": [
    "VdiffSys = SI.StaticFunction(func=VdiffFunc,InputVars=(V,omega,K),OutputVars=Vdiff,label='V-K*omega')\n",
    "VdiffSys.graph"
   ]
  },
  {
   "cell_type": "code",
   "execution_count": 18,
   "metadata": {
    "collapsed": false,
    "run_control": {
     "read_only": false
    }
   },
   "outputs": [
    {
     "data": {
      "image/svg+xml": [
       "<?xml version=\"1.0\" encoding=\"UTF-8\" standalone=\"no\"?>\n",
       "<!DOCTYPE svg PUBLIC \"-//W3C//DTD SVG 1.1//EN\"\n",
       " \"http://www.w3.org/Graphics/SVG/1.1/DTD/svg11.dtd\">\n",
       "<!-- Generated by graphviz version 2.38.0 (20140413.2041)\n",
       " -->\n",
       "<!-- Title: Sys Pages: 1 -->\n",
       "<svg width=\"365pt\" height=\"289pt\"\n",
       " viewBox=\"0.00 0.00 365.00 289.00\" xmlns=\"http://www.w3.org/2000/svg\" xmlns:xlink=\"http://www.w3.org/1999/xlink\">\n",
       "<g id=\"graph0\" class=\"graph\" transform=\"scale(1 1) rotate(0) translate(4 285)\">\n",
       "<title>Sys</title>\n",
       "<polygon fill=\"white\" stroke=\"none\" points=\"-4,4 -4,-285 361,-285 361,4 -4,4\"/>\n",
       "<!-- RL Circuit -->\n",
       "<g id=\"node1\" class=\"node\"><title>RL Circuit</title>\n",
       "<polygon fill=\"none\" stroke=\"black\" points=\"331.76,-208 256.24,-208 256.24,-172 331.76,-172 331.76,-208\"/>\n",
       "<text text-anchor=\"middle\" x=\"294\" y=\"-185.8\" font-family=\"Times,serif\" font-size=\"14.00\">RL Circuit</text>\n",
       "</g>\n",
       "<!-- RL Circuit&#45;&gt;RL Circuit -->\n",
       "<g id=\"edge12\" class=\"edge\"><title>RL Circuit&#45;&gt;RL Circuit</title>\n",
       "<path fill=\"none\" stroke=\"black\" d=\"M331.87,-196.7C342.099,-196.347 349.88,-194.113 349.88,-190 349.88,-187.429 346.84,-185.593 342.063,-184.491\"/>\n",
       "<polygon fill=\"black\" stroke=\"black\" points=\"342.209,-180.984 331.87,-183.3 341.397,-187.937 342.209,-180.984\"/>\n",
       "<text text-anchor=\"middle\" x=\"352.211\" y=\"-185.8\" font-family=\"Times,serif\" font-size=\"14.00\">I</text>\n",
       "</g>\n",
       "<!-- Motor -->\n",
       "<g id=\"node2\" class=\"node\"><title>Motor</title>\n",
       "<polygon fill=\"none\" stroke=\"black\" points=\"121,-122 67,-122 67,-86 121,-86 121,-122\"/>\n",
       "<text text-anchor=\"middle\" x=\"94\" y=\"-99.8\" font-family=\"Times,serif\" font-size=\"14.00\">Motor</text>\n",
       "</g>\n",
       "<!-- RL Circuit&#45;&gt;Motor -->\n",
       "<g id=\"edge13\" class=\"edge\"><title>RL Circuit&#45;&gt;Motor</title>\n",
       "<path fill=\"none\" stroke=\"black\" d=\"M255.911,-173.003C219.859,-157.861 166.109,-135.286 130.566,-120.358\"/>\n",
       "<polygon fill=\"black\" stroke=\"black\" points=\"131.629,-117.008 121.054,-116.363 128.919,-123.462 131.629,-117.008\"/>\n",
       "<text text-anchor=\"middle\" x=\"208.331\" y=\"-142.8\" font-family=\"Times,serif\" font-size=\"14.00\">I</text>\n",
       "</g>\n",
       "<!-- Motor&#45;&gt;Motor -->\n",
       "<g id=\"edge9\" class=\"edge\"><title>Motor&#45;&gt;Motor</title>\n",
       "<path fill=\"none\" stroke=\"black\" d=\"M121.241,-107.934C131.024,-108.018 139,-106.707 139,-104 139,-102.35 136.038,-101.219 131.51,-100.606\"/>\n",
       "<polygon fill=\"black\" stroke=\"black\" points=\"131.411,-97.0962 121.241,-100.066 131.043,-104.087 131.411,-97.0962\"/>\n",
       "<text text-anchor=\"middle\" x=\"152.604\" y=\"-99.8\" font-family=\"Times,serif\" font-size=\"14.00\">theta</text>\n",
       "</g>\n",
       "<!-- Motor&#45;&gt;Motor -->\n",
       "<g id=\"edge10\" class=\"edge\"><title>Motor&#45;&gt;Motor</title>\n",
       "<path fill=\"none\" stroke=\"black\" d=\"M121.177,-110.902C142.822,-113.396 166.207,-111.096 166.207,-104 166.207,-98.013 149.559,-95.4397 131.355,-96.2802\"/>\n",
       "<polygon fill=\"black\" stroke=\"black\" points=\"130.864,-92.8082 121.177,-97.0983 131.425,-99.7857 130.864,-92.8082\"/>\n",
       "<text text-anchor=\"middle\" x=\"184.866\" y=\"-99.8\" font-family=\"Times,serif\" font-size=\"14.00\">omega</text>\n",
       "</g>\n",
       "<!-- V&#45;K*omega -->\n",
       "<g id=\"node3\" class=\"node\"><title>V&#45;K*omega</title>\n",
       "<polygon fill=\"none\" stroke=\"black\" points=\"251.915,-36 168.085,-36 168.085,-0 251.915,-0 251.915,-36\"/>\n",
       "<text text-anchor=\"middle\" x=\"210\" y=\"-13.8\" font-family=\"Times,serif\" font-size=\"14.00\">V&#45;K*omega</text>\n",
       "</g>\n",
       "<!-- Motor&#45;&gt;V&#45;K*omega -->\n",
       "<g id=\"edge11\" class=\"edge\"><title>Motor&#45;&gt;V&#45;K*omega</title>\n",
       "<path fill=\"none\" stroke=\"black\" d=\"M117.754,-85.7986C135.192,-73.1716 159.063,-55.8855 178.153,-42.0616\"/>\n",
       "<polygon fill=\"black\" stroke=\"black\" points=\"180.231,-44.8783 186.278,-36.1783 176.125,-39.2087 180.231,-44.8783\"/>\n",
       "<text text-anchor=\"middle\" x=\"177.659\" y=\"-56.8\" font-family=\"Times,serif\" font-size=\"14.00\">omega</text>\n",
       "</g>\n",
       "<!-- V&#45;K*omega&#45;&gt;RL Circuit -->\n",
       "<g id=\"edge4\" class=\"edge\"><title>V&#45;K*omega&#45;&gt;RL Circuit</title>\n",
       "<path fill=\"none\" stroke=\"black\" d=\"M248.344,-36.1192C268.247,-47.2336 290.71,-63.811 302,-86 314.077,-109.736 309.453,-140.589 303.439,-162.317\"/>\n",
       "<polygon fill=\"black\" stroke=\"black\" points=\"300.089,-161.304 300.537,-171.89 306.788,-163.335 300.089,-161.304\"/>\n",
       "<text text-anchor=\"middle\" x=\"324.039\" y=\"-99.8\" font-family=\"Times,serif\" font-size=\"14.00\">Vdiff</text>\n",
       "</g>\n",
       "<!-- J -->\n",
       "<g id=\"node4\" class=\"node\"><title>J</title>\n",
       "<text text-anchor=\"middle\" x=\"99\" y=\"-185.8\" font-family=\"Times,serif\" font-size=\"14.00\">J</text>\n",
       "</g>\n",
       "<!-- J&#45;&gt;Motor -->\n",
       "<g id=\"edge1\" class=\"edge\"><title>J&#45;&gt;Motor</title>\n",
       "<path fill=\"none\" stroke=\"black\" d=\"M97.964,-171.595C97.2891,-160.257 96.3945,-145.227 95.6259,-132.315\"/>\n",
       "<polygon fill=\"black\" stroke=\"black\" points=\"99.1057,-131.869 95.0176,-122.095 92.118,-132.285 99.1057,-131.869\"/>\n",
       "</g>\n",
       "<!-- K -->\n",
       "<g id=\"node5\" class=\"node\"><title>K</title>\n",
       "<text text-anchor=\"middle\" x=\"27\" y=\"-185.8\" font-family=\"Times,serif\" font-size=\"14.00\">K</text>\n",
       "</g>\n",
       "<!-- K&#45;&gt;Motor -->\n",
       "<g id=\"edge3\" class=\"edge\"><title>K&#45;&gt;Motor</title>\n",
       "<path fill=\"none\" stroke=\"black\" d=\"M40.8824,-171.595C50.4684,-159.577 63.3633,-143.41 74.0473,-130.015\"/>\n",
       "<polygon fill=\"black\" stroke=\"black\" points=\"76.8652,-132.095 80.3646,-122.095 71.3927,-127.73 76.8652,-132.095\"/>\n",
       "</g>\n",
       "<!-- K&#45;&gt;V&#45;K*omega -->\n",
       "<g id=\"edge2\" class=\"edge\"><title>K&#45;&gt;V&#45;K*omega</title>\n",
       "<path fill=\"none\" stroke=\"black\" d=\"M27.8453,-171.944C29.8155,-149.625 36.3535,-110.483 58,-86 83.8804,-56.7284 124.941,-39.6739 157.865,-30.1037\"/>\n",
       "<polygon fill=\"black\" stroke=\"black\" points=\"159.084,-33.3984 167.796,-27.3687 157.225,-26.6496 159.084,-33.3984\"/>\n",
       "</g>\n",
       "<!-- L -->\n",
       "<g id=\"node6\" class=\"node\"><title>L</title>\n",
       "<text text-anchor=\"middle\" x=\"258\" y=\"-258.8\" font-family=\"Times,serif\" font-size=\"14.00\">L</text>\n",
       "</g>\n",
       "<!-- L&#45;&gt;RL Circuit -->\n",
       "<g id=\"edge5\" class=\"edge\"><title>L&#45;&gt;RL Circuit</title>\n",
       "<path fill=\"none\" stroke=\"black\" d=\"M266.715,-244.813C270.915,-236.528 276.045,-226.41 280.719,-217.193\"/>\n",
       "<polygon fill=\"black\" stroke=\"black\" points=\"283.965,-218.531 285.366,-208.029 277.722,-215.365 283.965,-218.531\"/>\n",
       "</g>\n",
       "<!-- b -->\n",
       "<g id=\"node7\" class=\"node\"><title>b</title>\n",
       "<text text-anchor=\"middle\" x=\"171\" y=\"-185.8\" font-family=\"Times,serif\" font-size=\"14.00\">b</text>\n",
       "</g>\n",
       "<!-- b&#45;&gt;Motor -->\n",
       "<g id=\"edge6\" class=\"edge\"><title>b&#45;&gt;Motor</title>\n",
       "<path fill=\"none\" stroke=\"black\" d=\"M155.046,-171.595C143.925,-159.464 128.929,-143.105 116.584,-129.637\"/>\n",
       "<polygon fill=\"black\" stroke=\"black\" points=\"119.008,-127.102 109.671,-122.095 113.848,-131.832 119.008,-127.102\"/>\n",
       "</g>\n",
       "<!-- R -->\n",
       "<g id=\"node8\" class=\"node\"><title>R</title>\n",
       "<text text-anchor=\"middle\" x=\"330\" y=\"-258.8\" font-family=\"Times,serif\" font-size=\"14.00\">R</text>\n",
       "</g>\n",
       "<!-- R&#45;&gt;RL Circuit -->\n",
       "<g id=\"edge7\" class=\"edge\"><title>R&#45;&gt;RL Circuit</title>\n",
       "<path fill=\"none\" stroke=\"black\" d=\"M321.285,-244.813C317.085,-236.528 311.955,-226.41 307.281,-217.193\"/>\n",
       "<polygon fill=\"black\" stroke=\"black\" points=\"310.278,-215.365 302.634,-208.029 304.035,-218.531 310.278,-215.365\"/>\n",
       "</g>\n",
       "<!-- V -->\n",
       "<g id=\"node9\" class=\"node\"><title>V</title>\n",
       "<text text-anchor=\"middle\" x=\"266\" y=\"-99.8\" font-family=\"Times,serif\" font-size=\"14.00\">V</text>\n",
       "</g>\n",
       "<!-- V&#45;&gt;V&#45;K*omega -->\n",
       "<g id=\"edge8\" class=\"edge\"><title>V&#45;&gt;V&#45;K*omega</title>\n",
       "<path fill=\"none\" stroke=\"black\" d=\"M254.397,-85.5951C246.536,-73.8037 236.013,-58.0188 227.184,-44.7764\"/>\n",
       "<polygon fill=\"black\" stroke=\"black\" points=\"229.856,-42.4742 221.397,-36.0952 224.032,-46.3571 229.856,-42.4742\"/>\n",
       "</g>\n",
       "</g>\n",
       "</svg>\n"
      ],
      "text/plain": [
       "<graphviz.dot.Digraph at 0x109012ed0>"
      ]
     },
     "execution_count": 18,
     "metadata": {},
     "output_type": "execute_result"
    }
   ],
   "source": [
    "Sys = SI.Connect((MotorEquation,RLEquation,VdiffSys))\n",
    "Sys.graph"
   ]
  },
  {
   "cell_type": "code",
   "execution_count": 19,
   "metadata": {
    "collapsed": false,
    "run_control": {
     "read_only": false
    }
   },
   "outputs": [
    {
     "data": {
      "text/plain": [
       "<matplotlib.text.Text at 0x1091616d0>"
      ]
     },
     "execution_count": 19,
     "metadata": {},
     "output_type": "execute_result"
    },
    {
     "data": {
      "image/png": "[encoded data removed]",
      "text/plain": [
       "<matplotlib.figure.Figure at 0x10905f810>"
      ]
     },
     "metadata": {},
     "output_type": "display_data"
    },
    {
     "data": {
      "image/png": "[encoded data removed]",
      "text/plain": [
       "<matplotlib.figure.Figure at 0x10913d910>"
      ]
     },
     "metadata": {},
     "output_type": "display_data"
    }
   ],
   "source": [
    "#J.setData([[10]],[0])\n",
    "#b.setData([[.001]],[0])\n",
    "Sys.UpdateParameters()\n",
    "IntegratorTotal = integ.ode(Sys.VectorField)\n",
    "IntegratorTotal.set_integrator('dopri5').set_initial_value(Sys.InitialState,0.0)\n",
    "\n",
    "X = np.zeros((len(Time),len(Sys.InitialState)))\n",
    "for k in range(len(Time)):\n",
    "    t = Time[k]\n",
    "    x = IntegratorTotal.integrate(t)\n",
    "    X[k] = x\n",
    "    \n",
    "Sys.UpdateSignals(Time,X)\n",
    "\n",
    "plt.figure()\n",
    "hV = plt.plot(Time,V.data,label='V')[0]\n",
    "hI = plt.plot(Time,I.data,label='I')[0]\n",
    "plt.legend(handles=(hV,hI))\n",
    "plt.xlabel('Time')\n",
    "\n",
    "plt.figure()\n",
    "hTheta = plt.plot(Time,theta.data,label=R'$\\theta$')[0]\n",
    "hOmega = plt.plot(Time,omega.data,label='$\\omega$')[0]\n",
    "plt.legend(handles=(hTheta,hOmega))\n",
    "plt.xlabel('Time')"
   ]
  },
  {
   "cell_type": "code",
   "execution_count": null,
   "metadata": {
    "collapsed": true
   },
   "outputs": [],
   "source": []
  }
 ],
 "metadata": {
  "kernelspec": {
   "display_name": "Python 2",
   "language": "python",
   "name": "python2"
  },
  "language_info": {
   "codemirror_mode": {
    "name": "ipython",
    "version": 2
   },
   "file_extension": ".py",
   "mimetype": "text/x-python",
   "name": "python",
   "nbconvert_exporter": "python",
   "pygments_lexer": "ipython2",
   "version": "2.7.8"
  }
 },
 "nbformat": 4,
 "nbformat_minor": 0
}
