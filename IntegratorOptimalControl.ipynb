{
 "cells": [
  {
   "cell_type": "markdown",
   "metadata": {},
   "source": [
    "## Integrator Optimal Control\n",
    "\n",
    "This notebook demonstrates how to use `SimInterface` with a simple optimal control example.\n",
    "\n",
    "## Initialization"
   ]
  },
  {
   "cell_type": "code",
   "execution_count": 1,
   "metadata": {
    "collapsed": true,
    "run_control": {
     "read_only": false
    }
   },
   "outputs": [],
   "source": [
    "%matplotlib inline\n",
    "import SimInterface as SI\n",
    "import SimInterface.samplingControl as SC\n",
    "import numpy as np\n",
    "import matplotlib.pyplot as plt"
   ]
  },
  {
   "cell_type": "markdown",
   "metadata": {},
   "source": [
    "## Defining the System\n",
    "\n",
    "We will examine a simple optimal control problem:\n",
    "\\begin{equation*}\n",
    "\\begin{array}{cl}\n",
    "\\min_{u} &\\int_0^T \\left(x_t^2 + u_t^2\\right) dt \\\\\n",
    "\\textrm{subject to } & \\dot x_t = u_t,\n",
    "\\end{array}\n",
    "\\end{equation*}\n",
    "with a fixed initial condition, $x_0 = 10$ and fixed final time $T$."
   ]
  },
  {
   "cell_type": "code",
   "execution_count": 2,
   "metadata": {
    "collapsed": true,
    "run_control": {
     "read_only": false
    }
   },
   "outputs": [],
   "source": [
    "class Integrator(SI.linearQuadraticSystem):\n",
    "    \"\"\"\n",
    "    This is the simplest linear system dynamical system\n",
    "    \"\"\"\n",
    "    def __init__(self):\n",
    "        self.dt = 0.1\n",
    "        self.x0 = 10.0\n",
    "        A = 1.\n",
    "        B = self.dt\n",
    "        Q = self.dt * 1.\n",
    "        R = self.dt * 1.\n",
    "        dynMat = SI.buildDynamicsMatrix(A,B)\n",
    "        costMat = SI.buildCostMatrix(Cxx=Q,Cuu=R)\n",
    "        SI.linearQuadraticSystem.__init__(self,dynamicsMatrix=dynMat,\n",
    "                                           costMatrix=costMat,x0 = self.x0)\n",
    "sys = Integrator()"
   ]
  },
  {
   "cell_type": "markdown",
   "metadata": {},
   "source": [
    "The `linearQuadraticSystem` class implements dynamics of the form:\n",
    "\\begin{equation*}\n",
    "    x_{k+1} = \\begin{bmatrix}D_1 & D_x & D_u \\end{bmatrix}\n",
    "    \\begin{bmatrix}\n",
    "        1 \\\\\n",
    "        x_k \\\\\n",
    "        u_k\n",
    "    \\end{bmatrix}\n",
    "\\end{equation*}\n",
    "with a quadratic cost given by\n",
    "\\begin{equation*}\n",
    "    \\sum_{k=0}^{N-1} \n",
    "    \\begin{bmatrix}\n",
    "        1 \\\\\n",
    "        x_k \\\\\n",
    "        u_k\n",
    "    \\end{bmatrix}'\n",
    "    \\begin{bmatrix}\n",
    "    C_{11} & C_{1x} & C_{1u} \\\\\n",
    "    C_{x1} & C_{xx} & C_{xu} \\\\\n",
    "    C_{u1} & C_{ux} & C_{uu}\n",
    "    \\end{bmatrix}\n",
    "    \\begin{bmatrix}\n",
    "        1 \\\\\n",
    "        x_k \\\\\n",
    "        u_k\n",
    "    \\end{bmatrix}.\n",
    "\\end{equation*}\n",
    "\n",
    "In order to cast the integrator system into this form, we first perform an Euler approximation. We then utilize the helper functions `buildDynamicsMatrix` and `buildCostMatrix` to build the required matrices from the more common $A$, $B$, $Q$,and $R$ matrices.\n",
    "\n",
    "## Controller Comparison\n",
    "\n",
    "Now we will compare a several control methods. "
   ]
  },
  {
   "cell_type": "code",
   "execution_count": 3,
   "metadata": {
    "collapsed": false,
    "run_control": {
     "read_only": false
    }
   },
   "outputs": [],
   "source": [
    "T = 100 # The Horizon\n",
    "Controllers = [] # An empty list to store the controllers."
   ]
  },
  {
   "cell_type": "markdown",
   "metadata": {},
   "source": [
    "The most basic controller is a static gain:\n",
    "\\begin{equation*}\n",
    "u_t = -\\frac{1}{2} x_t\n",
    "\\end{equation*}"
   ]
  },
  {
   "cell_type": "code",
   "execution_count": 4,
   "metadata": {
    "collapsed": true,
    "run_control": {
     "read_only": false
    }
   },
   "outputs": [],
   "source": [
    "staticCtrl = SI.staticGain(gain=-.5,Horizon=T,label='Static')\n",
    "Controllers.append(staticCtrl)"
   ]
  },
  {
   "cell_type": "markdown",
   "metadata": {},
   "source": [
    "We can also use a linear quadratic regulator. Note that for the linear quadratic regulator, we pass the system as parameter to the control method, and then the regulator is constructed. \n",
    "\n",
    "A model predictive controller is constructed similarly."
   ]
  },
  {
   "cell_type": "code",
   "execution_count": 5,
   "metadata": {
    "collapsed": true,
    "run_control": {
     "read_only": false
    }
   },
   "outputs": [],
   "source": [
    "lqrCtrl = SI.linearQuadraticRegulator(SYS=sys,Horizon=T,label='LQR')\n",
    "Controllers.append(lqrCtrl)\n",
    "\n",
    "mpcCtrl = SI.modelPredictiveControl(SYS=sys,\n",
    "                                    predictiveHorizon=5,\n",
    "                                    Horizon=T,\n",
    "                                    label='MPC')\n",
    "Controllers.append(mpcCtrl)"
   ]
  },
  {
   "cell_type": "markdown",
   "metadata": {},
   "source": [
    "We can also compute control the control using only sequences of costs using an actor-critic algorithm."
   ]
  },
  {
   "cell_type": "code",
   "execution_count": 6,
   "metadata": {
    "collapsed": false,
    "run_control": {
     "read_only": false
    }
   },
   "outputs": [
    {
     "name": "stdout",
     "output_type": "stream",
     "text": [
      "Episode Cost: 190.637, Estimated Episode Cost: 202.38, Undiscounted Cost: 976.635\n",
      "Episode Cost: 86.8941, Estimated Episode Cost: 259.634, Undiscounted Cost: 146.322\n",
      "Episode Cost: 4.62527, Estimated Episode Cost: 20.2366, Undiscounted Cost: 32.5673\n",
      "Episode Cost: 9.27711, Estimated Episode Cost: 1.77484, Undiscounted Cost: 45.7538\n",
      "Episode Cost: 8.42496, Estimated Episode Cost: 2.0536, Undiscounted Cost: 49.4951\n",
      "Episode Cost: 10.0035, Estimated Episode Cost: 1.51353, Undiscounted Cost: 49.6142\n",
      "Episode Cost: 8.35536, Estimated Episode Cost: 3.71869, Undiscounted Cost: 47.9717\n",
      "Episode Cost: 9.95864, Estimated Episode Cost: 3.18932, Undiscounted Cost: 47.5708\n",
      "Episode Cost: 9.80478, Estimated Episode Cost: 3.90157, Undiscounted Cost: 48.4531\n",
      "Episode Cost: 9.26426, Estimated Episode Cost: 4.17719, Undiscounted Cost: 48.1101\n",
      "Episode Cost: 10.3281, Estimated Episode Cost: 5.71819, Undiscounted Cost: 52.428\n",
      "Episode Cost: 9.78741, Estimated Episode Cost: 5.82563, Undiscounted Cost: 49.1886\n",
      "Episode Cost: 9.53548, Estimated Episode Cost: 6.1088, Undiscounted Cost: 50.6098\n",
      "Episode Cost: 9.89846, Estimated Episode Cost: 6.92345, Undiscounted Cost: 48.1945\n",
      "Episode Cost: 9.98703, Estimated Episode Cost: 7.57172, Undiscounted Cost: 50.5337\n",
      "Episode Cost: 9.69733, Estimated Episode Cost: 7.59354, Undiscounted Cost: 48.5009\n",
      "Episode Cost: 10.551, Estimated Episode Cost: 8.41068, Undiscounted Cost: 51.3196\n",
      "Episode Cost: 10.6338, Estimated Episode Cost: 8.51117, Undiscounted Cost: 49.7383\n",
      "Episode Cost: 10.1648, Estimated Episode Cost: 10.3534, Undiscounted Cost: 52.2144\n",
      "Episode Cost: 10.0347, Estimated Episode Cost: 9.39222, Undiscounted Cost: 49.9258\n",
      "Episode Cost: 9.27684, Estimated Episode Cost: 11.667, Undiscounted Cost: 48.924\n",
      "Episode Cost: 9.86828, Estimated Episode Cost: 10.8703, Undiscounted Cost: 48.7803\n",
      "Episode Cost: 10.7292, Estimated Episode Cost: 10.5469, Undiscounted Cost: 51.951\n",
      "Episode Cost: 10.4451, Estimated Episode Cost: 12.2013, Undiscounted Cost: 51.8861\n",
      "Episode Cost: 9.7801, Estimated Episode Cost: 11.9179, Undiscounted Cost: 48.8519\n",
      "Episode Cost: 9.98689, Estimated Episode Cost: 12.1101, Undiscounted Cost: 48.5177\n",
      "Episode Cost: 10.0961, Estimated Episode Cost: 11.9521, Undiscounted Cost: 51.0517\n",
      "Episode Cost: 9.99341, Estimated Episode Cost: 12.4566, Undiscounted Cost: 51.3437\n",
      "Episode Cost: 9.61371, Estimated Episode Cost: 12.7613, Undiscounted Cost: 48.7105\n",
      "Episode Cost: 10.1415, Estimated Episode Cost: 13.2539, Undiscounted Cost: 51.0388\n",
      "Episode Cost: 10.4949, Estimated Episode Cost: 13.2017, Undiscounted Cost: 52.6961\n",
      "Episode Cost: 9.76023, Estimated Episode Cost: 13.5909, Undiscounted Cost: 49.4473\n",
      "Episode Cost: 10.1433, Estimated Episode Cost: 13.7732, Undiscounted Cost: 49.6062\n",
      "Episode Cost: 10.0589, Estimated Episode Cost: 14.2245, Undiscounted Cost: 50.322\n",
      "Episode Cost: 10.196, Estimated Episode Cost: 14.9667, Undiscounted Cost: 47.6815\n",
      "Episode Cost: 9.7598, Estimated Episode Cost: 14.7573, Undiscounted Cost: 49.5667\n",
      "Episode Cost: 10.6611, Estimated Episode Cost: 14.9373, Undiscounted Cost: 51.8272\n",
      "Episode Cost: 9.75459, Estimated Episode Cost: 16.1833, Undiscounted Cost: 50.3753\n",
      "Episode Cost: 10.4171, Estimated Episode Cost: 15.3441, Undiscounted Cost: 51.5719\n",
      "Episode Cost: 9.5609, Estimated Episode Cost: 16.2242, Undiscounted Cost: 48.3973\n",
      "Episode Cost: 10.1841, Estimated Episode Cost: 15.8074, Undiscounted Cost: 51.0665\n",
      "Episode Cost: 10.8094, Estimated Episode Cost: 16.9794, Undiscounted Cost: 53.3293\n",
      "Episode Cost: 10.436, Estimated Episode Cost: 16.7234, Undiscounted Cost: 52.2143\n",
      "Episode Cost: 10.12, Estimated Episode Cost: 16.546, Undiscounted Cost: 50.737\n",
      "Episode Cost: 9.83245, Estimated Episode Cost: 17.3426, Undiscounted Cost: 49.8047\n",
      "Episode Cost: 9.64008, Estimated Episode Cost: 17.1872, Undiscounted Cost: 49.3948\n",
      "Episode Cost: 9.87499, Estimated Episode Cost: 17.3807, Undiscounted Cost: 50.2107\n",
      "Episode Cost: 10.1341, Estimated Episode Cost: 17.2992, Undiscounted Cost: 49.337\n",
      "Episode Cost: 9.77718, Estimated Episode Cost: 17.5539, Undiscounted Cost: 49.7996\n",
      "Episode Cost: 9.65167, Estimated Episode Cost: 17.7773, Undiscounted Cost: 49.7028\n",
      "Episode Cost: 10.2206, Estimated Episode Cost: 17.8714, Undiscounted Cost: 50.015\n",
      "Episode Cost: 9.93492, Estimated Episode Cost: 18.2295, Undiscounted Cost: 50.9696\n",
      "Episode Cost: 9.81191, Estimated Episode Cost: 18.2654, Undiscounted Cost: 48.8013\n",
      "Episode Cost: 9.82288, Estimated Episode Cost: 19.2219, Undiscounted Cost: 49.7755\n",
      "Episode Cost: 9.91214, Estimated Episode Cost: 18.8918, Undiscounted Cost: 51.5445\n",
      "Episode Cost: 10.2736, Estimated Episode Cost: 18.8807, Undiscounted Cost: 50.3924\n",
      "Episode Cost: 10.2802, Estimated Episode Cost: 18.9247, Undiscounted Cost: 50.6716\n",
      "Episode Cost: 10.6367, Estimated Episode Cost: 19.1381, Undiscounted Cost: 51.1239\n",
      "Episode Cost: 10.1021, Estimated Episode Cost: 19.2607, Undiscounted Cost: 50.1898\n",
      "Episode Cost: 10.5813, Estimated Episode Cost: 19.4344, Undiscounted Cost: 51.4071\n",
      "Episode Cost: 10.2327, Estimated Episode Cost: 19.59, Undiscounted Cost: 50.673\n",
      "Episode Cost: 10.1092, Estimated Episode Cost: 20.1609, Undiscounted Cost: 51.2528\n",
      "Episode Cost: 9.96034, Estimated Episode Cost: 20.1503, Undiscounted Cost: 50.2952\n",
      "Episode Cost: 10.4344, Estimated Episode Cost: 20.3115, Undiscounted Cost: 50.1957\n",
      "Episode Cost: 9.76479, Estimated Episode Cost: 20.6352, Undiscounted Cost: 49.7315\n",
      "Episode Cost: 9.28145, Estimated Episode Cost: 20.9208, Undiscounted Cost: 48.6364\n",
      "Episode Cost: 9.7943, Estimated Episode Cost: 20.7714, Undiscounted Cost: 51.3606\n",
      "Episode Cost: 10.2417, Estimated Episode Cost: 20.6356, Undiscounted Cost: 51.0988\n",
      "Episode Cost: 9.58674, Estimated Episode Cost: 21.079, Undiscounted Cost: 49.0611\n",
      "Episode Cost: 9.67173, Estimated Episode Cost: 21.4015, Undiscounted Cost: 49.733\n",
      "Episode Cost: 10.1069, Estimated Episode Cost: 21.0986, Undiscounted Cost: 49.6785\n",
      "Episode Cost: 10.2825, Estimated Episode Cost: 21.1956, Undiscounted Cost: 49.4671\n",
      "Episode Cost: 9.99842, Estimated Episode Cost: 21.5602, Undiscounted Cost: 50.3845\n",
      "Episode Cost: 9.45026, Estimated Episode Cost: 21.5353, Undiscounted Cost: 48.4192\n",
      "Episode Cost: 9.38467, Estimated Episode Cost: 23.0094, Undiscounted Cost: 48.6228\n",
      "Episode Cost: 9.72299, Estimated Episode Cost: 22.0557, Undiscounted Cost: 48.9817\n",
      "Episode Cost: 9.80107, Estimated Episode Cost: 21.8795, Undiscounted Cost: 50.1693\n",
      "Episode Cost: 9.98455, Estimated Episode Cost: 21.9979, Undiscounted Cost: 49.1822\n",
      "Episode Cost: 10.001, Estimated Episode Cost: 22.1217, Undiscounted Cost: 50.1731\n",
      "Episode Cost: 9.81195, Estimated Episode Cost: 22.2833, Undiscounted Cost: 48.3442\n",
      "Episode Cost: 9.9364, Estimated Episode Cost: 23.5725, Undiscounted Cost: 49.9474\n",
      "Episode Cost: 10.143, Estimated Episode Cost: 22.4963, Undiscounted Cost: 52.4469\n",
      "Episode Cost: 9.91854, Estimated Episode Cost: 22.6353, Undiscounted Cost: 49.3221\n",
      "Episode Cost: 9.82855, Estimated Episode Cost: 22.6997, Undiscounted Cost: 48.764\n",
      "Episode Cost: 10.0167, Estimated Episode Cost: 22.8197, Undiscounted Cost: 48.0827\n",
      "Episode Cost: 9.56539, Estimated Episode Cost: 23.1784, Undiscounted Cost: 49.2495\n",
      "Episode Cost: 10.0393, Estimated Episode Cost: 23.438, Undiscounted Cost: 49.7718\n",
      "Episode Cost: 9.70212, Estimated Episode Cost: 23.6016, Undiscounted Cost: 49.0506\n",
      "Episode Cost: 9.70727, Estimated Episode Cost: 24.5954, Undiscounted Cost: 48.7086\n",
      "Episode Cost: 9.78125, Estimated Episode Cost: 23.6937, Undiscounted Cost: 48.9077\n",
      "Episode Cost: 9.71952, Estimated Episode Cost: 23.6385, Undiscounted Cost: 49.1978\n",
      "Episode Cost: 9.86887, Estimated Episode Cost: 23.6201, Undiscounted Cost: 48.5447\n",
      "Episode Cost: 9.51441, Estimated Episode Cost: 24.2322, Undiscounted Cost: 48.9187\n",
      "Episode Cost: 10.2478, Estimated Episode Cost: 23.8066, Undiscounted Cost: 49.9406\n",
      "Episode Cost: 9.64882, Estimated Episode Cost: 23.9212, Undiscounted Cost: 48.7866\n",
      "Episode Cost: 10.0883, Estimated Episode Cost: 24.277, Undiscounted Cost: 49.102\n",
      "Episode Cost: 9.54647, Estimated Episode Cost: 24.5796, Undiscounted Cost: 50.4846\n",
      "Episode Cost: 9.72569, Estimated Episode Cost: 24.2885, Undiscounted Cost: 48.6167\n",
      "Episode Cost: 9.59759, Estimated Episode Cost: 25.6632, Undiscounted Cost: 48.1083\n",
      "Episode Cost: 9.36777, Estimated Episode Cost: 24.4779, Undiscounted Cost: 47.4381\n"
     ]
    }
   ],
   "source": [
    "actorCriticCtrl = SI.actorCriticLQR(SYS=sys,Horizon=T,reset=False,\n",
    "                                    Covariance=np.array([[1.0]]),\n",
    "                                    EpisodeLength=T,EpisodeCount=100,\n",
    "                                    TraceDecayFactor = .1,\n",
    "                                    DiscountFactor = .95,\n",
    "                                    ForgettingFactor = .99,\n",
    "                                    label='Actor Critic')\n",
    "Controllers.append(actorCriticCtrl)"
   ]
  },
  {
   "cell_type": "markdown",
   "metadata": {},
   "source": [
    "## Comparison and Plotting\n",
    "\n",
    "With all the controllers now defined, we can simulate each of them and plot the results."
   ]
  },
  {
   "cell_type": "code",
   "execution_count": 7,
   "metadata": {
    "collapsed": false,
    "run_control": {
     "read_only": false
    }
   },
   "outputs": [
    {
     "name": "stdout",
     "output_type": "stream",
     "text": [
      "\n",
      "Comparing Controllers\n",
      "\n",
      "Static: 128.201\n",
      "LQR: 105.125\n",
      "MPC: 155.746\n",
      "Actor Critic: 177.312\n"
     ]
    },
    {
     "data": {
      "text/plain": [
       "<matplotlib.legend.Legend at 0x1039de110>"
      ]
     },
     "execution_count": 7,
     "metadata": {},
     "output_type": "execute_result"
    },
    {
     "data": {
      "image/png": "[encoded data removed]",
      "text/plain": [
       "<matplotlib.figure.Figure at 0x1077641d0>"
      ]
     },
     "metadata": {},
     "output_type": "display_data"
    }
   ],
   "source": [
    "NumControllers = len(Controllers)\n",
    "X = np.zeros((NumControllers,T,1))\n",
    "Cost = np.zeros((NumControllers,T))\n",
    "Time = sys.dt * np.arange(staticCtrl.Horizon)\n",
    "plt.figure(1)\n",
    "plt.clf()\n",
    "line = []\n",
    "\n",
    "print '\\nComparing Controllers\\n'\n",
    "\n",
    "for k in range(NumControllers):\n",
    "    controller = Controllers[k]\n",
    "    name = controller.label\n",
    "\n",
    "    X[k], U, Cost[k] = sys.simulatePolicy(controller)\n",
    "    print '%s: %g' % (name,Cost[k].sum())\n",
    "    handle = plt.plot(Time,X[k],label=name)[0]\n",
    "    line.append(handle)\n",
    "\n",
    "plt.legend(handles=line)"
   ]
  },
  {
   "cell_type": "code",
   "execution_count": 8,
   "metadata": {
    "collapsed": false,
    "run_control": {
     "read_only": false
    }
   },
   "outputs": [
    {
     "data": {
      "text/plain": [
       "(array([ 6.160555  , -2.87016448]), array([[ 0.54325164]]))"
      ]
     },
     "execution_count": 8,
     "metadata": {},
     "output_type": "execute_result"
    }
   ],
   "source": [
    "actorCriticCtrl.beta, actorCriticCtrl.C"
   ]
  },
  {
   "cell_type": "code",
   "execution_count": null,
   "metadata": {
    "collapsed": true,
    "run_control": {
     "read_only": false
    }
   },
   "outputs": [],
   "source": []
  }
 ],
 "metadata": {
  "kernelspec": {
   "display_name": "Python 2",
   "language": "python",
   "name": "python2"
  },
  "language_info": {
   "codemirror_mode": {
    "name": "ipython",
    "version": 2
   },
   "file_extension": ".py",
   "mimetype": "text/x-python",
   "name": "python",
   "nbconvert_exporter": "python",
   "pygments_lexer": "ipython2",
   "version": "2.7.8"
  }
 },
 "nbformat": 4,
 "nbformat_minor": 0
}
