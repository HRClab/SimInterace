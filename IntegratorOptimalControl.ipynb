{
 "cells": [
  {
   "cell_type": "markdown",
   "metadata": {},
   "source": [
    "## Integrator Optimal Control\n",
    "\n",
    "This notebook demonstrates how to use `SimInterface` with a simple optimal control example.\n",
    "\n",
    "## Initialization"
   ]
  },
  {
   "cell_type": "code",
   "execution_count": 1,
   "metadata": {
    "collapsed": true,
    "run_control": {
     "read_only": false
    }
   },
   "outputs": [],
   "source": [
    "%matplotlib inline\n",
    "import SimInterface as SI\n",
    "import SimInterface.samplingControl as SC\n",
    "import numpy as np\n",
    "import matplotlib.pyplot as plt"
   ]
  },
  {
   "cell_type": "markdown",
   "metadata": {},
   "source": [
    "## Defining the System\n",
    "\n",
    "We will examine a simple optimal control problem:\n",
    "\\begin{equation*}\n",
    "\\begin{array}{cl}\n",
    "\\min_{u} &\\int_0^T \\left(x_t^2 + u_t^2\\right) dt \\\\\n",
    "\\textrm{subject to } & \\dot x_t = u_t,\n",
    "\\end{array}\n",
    "\\end{equation*}\n",
    "with a fixed initial condition, $x_0 = 1$ and fixed final time $T$."
   ]
  },
  {
   "cell_type": "code",
   "execution_count": 2,
   "metadata": {
    "collapsed": true
   },
   "outputs": [],
   "source": [
    "class Integrator(SI.linearQuadraticSystem):\n",
    "    \"\"\"\n",
    "    This is the simplest linear system dynamical system\n",
    "    \"\"\"\n",
    "    def __init__(self):\n",
    "        self.dt = 0.1\n",
    "        self.x0 = 1.0\n",
    "        A = 1.\n",
    "        B = self.dt\n",
    "        Q = self.dt * 1.\n",
    "        R = self.dt * 1.\n",
    "        dynMat = SI.buildDynamicsMatrix(A,B)\n",
    "        costMat = SI.buildCostMatrix(Cxx=Q,Cuu=R)\n",
    "        SI.linearQuadraticSystem.__init__(self,dynamicsMatrix=dynMat,\n",
    "                                           costMatrix=costMat,x0 = self.x0)\n",
    "sys = Integrator()"
   ]
  },
  {
   "cell_type": "markdown",
   "metadata": {},
   "source": [
    "The `linearQuadraticSystem` class implements dynamics of the form:\n",
    "\\begin{equation*}\n",
    "    x_{k+1} = \\begin{bmatrix}D_1 & D_x & D_u \\end{bmatrix}\n",
    "    \\begin{bmatrix}\n",
    "        1 \\\\\n",
    "        x_k \\\\\n",
    "        u_k\n",
    "    \\end{bmatrix}\n",
    "\\end{equation*}\n",
    "with a quadratic cost given by\n",
    "\\begin{equation*}\n",
    "    \\sum_{k=0}^{N-1} \n",
    "    \\begin{bmatrix}\n",
    "        1 \\\\\n",
    "        x_k \\\\\n",
    "        u_k\n",
    "    \\end{bmatrix}'\n",
    "    \\begin{bmatrix}\n",
    "    C_{11} & C_{1x} & C_{1u} \\\\\n",
    "    C_{x1} & C_{xx} & C_{xu} \\\\\n",
    "    C_{u1} & C_{ux} & C_{uu}\n",
    "    \\end{bmatrix}\n",
    "    \\begin{bmatrix}\n",
    "        1 \\\\\n",
    "        x_k \\\\\n",
    "        u_k\n",
    "    \\end{bmatrix}.\n",
    "\\end{equation*}\n",
    "\n",
    "In order to cast the integrator system into this form, we first perform an Euler approximation. We then utilize the helper functions `buildDynamicsMatrix` and `buildCostMatrix` to build the required matrices from the more common $A$, $B$, $Q$,and $R$ matrices.\n",
    "\n",
    "## Controller Comparison\n",
    "\n",
    "Now we will compare a several control methods. "
   ]
  },
  {
   "cell_type": "code",
   "execution_count": 3,
   "metadata": {
    "collapsed": false
   },
   "outputs": [],
   "source": [
    "T = 50 # The Horizon\n",
    "Controllers = [] # An empty list to store the controllers."
   ]
  },
  {
   "cell_type": "markdown",
   "metadata": {},
   "source": [
    "The most basic controller is a static gain:\n",
    "\\begin{equation*}\n",
    "u_t = -\\frac{1}{2} x_t\n",
    "\\end{equation*}"
   ]
  },
  {
   "cell_type": "code",
   "execution_count": 4,
   "metadata": {
    "collapsed": true
   },
   "outputs": [],
   "source": [
    "staticCtrl = SI.staticGain(gain=-.5,Horizon=T,label='Static')\n",
    "Controllers.append(staticCtrl)"
   ]
  },
  {
   "cell_type": "markdown",
   "metadata": {},
   "source": [
    "We can also use a linear quadratic regulator. Note that for the linear quadratic regulator, we pass the system as parameter to the control method, and then the regulator is constructed. \n",
    "\n",
    "A model predictive controller is constructed similarly."
   ]
  },
  {
   "cell_type": "code",
   "execution_count": 5,
   "metadata": {
    "collapsed": true
   },
   "outputs": [],
   "source": [
    "lqrCtrl = SI.linearQuadraticRegulator(SYS=sys,Horizon=T,label='LQR')\n",
    "Controllers.append(lqrCtrl)\n",
    "\n",
    "mpcCtrl = SI.modelPredictiveControl(SYS=sys,\n",
    "                                    predictiveHorizon=5,\n",
    "                                    Horizon=T,\n",
    "                                    label='MPC')\n",
    "Controllers.append(mpcCtrl)"
   ]
  },
  {
   "cell_type": "markdown",
   "metadata": {},
   "source": [
    "We can also compute control the control using only sequences of costs using an actor-critic algorithm."
   ]
  },
  {
   "cell_type": "code",
   "execution_count": 6,
   "metadata": {
    "collapsed": true
   },
   "outputs": [],
   "source": [
    "actorCriticCtrl = SI.actorCriticLQR(SYS=sys,Horizon=T,\n",
    "                                    Covariance=np.array([[1.]]),\n",
    "                                    EpisodeLength=40,EpisodeCount=50,\n",
    "                                    TraceDecayFactor = .1,\n",
    "                                    DiscountFactor = .9,\n",
    "                                    ForgettingFactor = .9,\n",
    "                                    label='Actor Critic')\n",
    "Controllers.append(actorCriticCtrl)"
   ]
  },
  {
   "cell_type": "markdown",
   "metadata": {},
   "source": [
    "## Comparison and Plotting\n",
    "\n",
    "With all the controllers now defined, we can simulate each of them and plot the results."
   ]
  },
  {
   "cell_type": "code",
   "execution_count": 7,
   "metadata": {
    "collapsed": false
   },
   "outputs": [
    {
     "name": "stdout",
     "output_type": "stream",
     "text": [
      "\n",
      "Comparing Controllers\n",
      "\n",
      "Static: 1.27446\n",
      "LQR: 1.05115\n",
      "MPC: 1.52317\n",
      "Actor Critic: 1.35751\n"
     ]
    },
    {
     "data": {
      "text/plain": [
       "<matplotlib.legend.Legend at 0x107697290>"
      ]
     },
     "execution_count": 7,
     "metadata": {},
     "output_type": "execute_result"
    },
    {
     "data": {
      "image/png": "[encoded data removed]",
      "text/plain": [
       "<matplotlib.figure.Figure at 0x107697250>"
      ]
     },
     "metadata": {},
     "output_type": "display_data"
    }
   ],
   "source": [
    "NumControllers = len(Controllers)\n",
    "X = np.zeros((NumControllers,T,1))\n",
    "Cost = np.zeros((NumControllers,T))\n",
    "T = sys.dt * np.arange(staticCtrl.Horizon)\n",
    "plt.figure(1)\n",
    "plt.clf()\n",
    "line = []\n",
    "\n",
    "print '\\nComparing Controllers\\n'\n",
    "\n",
    "for k in range(NumControllers):\n",
    "    controller = Controllers[k]\n",
    "    name = controller.label\n",
    "\n",
    "    X[k], U, Cost[k] = sys.simulatePolicy(controller)\n",
    "    print '%s: %g' % (name,Cost[k].sum())\n",
    "    handle = plt.plot(T,X[k],label=name)[0]\n",
    "    line.append(handle)\n",
    "\n",
    "plt.legend(handles=line)"
   ]
  }
 ],
 "metadata": {
  "kernelspec": {
   "display_name": "Python 2",
   "language": "python",
   "name": "python2"
  },
  "language_info": {
   "codemirror_mode": {
    "name": "ipython",
    "version": 2
   },
   "file_extension": ".py",
   "mimetype": "text/x-python",
   "name": "python",
   "nbconvert_exporter": "python",
   "pygments_lexer": "ipython2",
   "version": "2.7.8"
  }
 },
 "nbformat": 4,
 "nbformat_minor": 0
}
